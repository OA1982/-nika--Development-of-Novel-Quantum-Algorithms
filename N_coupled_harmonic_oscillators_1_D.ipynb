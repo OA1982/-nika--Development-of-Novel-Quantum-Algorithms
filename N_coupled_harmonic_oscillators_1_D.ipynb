{
 "cells": [
  {
   "cell_type": "markdown",
   "id": "9e5e3cd8",
   "metadata": {},
   "source": [
    "# Quantum Algorithm for Hamiltonian Simulation of Coupled Classical Oscillators"
   ]
  },
  {
   "cell_type": "markdown",
   "id": "1e482ad3-b572-49c2-9ca6-3033922e82da",
   "metadata": {},
   "source": [
    "The dynamics of a classical system of coupled oscillators with $s$ degrees of freedom could accurately be described by series of _normal modes_. Our objective here is to deploy a quantum algorithm that would meaningfully deliver the dynamics of a 1-dimensional system of $N$ coupled classical oscillators through a Hamiltonian simulation over time."
   ]
  },
  {
   "cell_type": "markdown",
   "id": "96f2a974-d23d-40ef-9d08-713d5d404b61",
   "metadata": {
    "jp-MarkdownHeadingCollapsed": true
   },
   "source": [
    "## Introduction"
   ]
  },
  {
   "cell_type": "markdown",
   "id": "f989545a-f6c6-4ba3-86c8-fafc17aa7935",
   "metadata": {},
   "source": [
    "A 1-dimensional system of coupled oscillators is composed of $N$ masses interacting with each other according to Hook's law and each mass could also be imagined to be connected to a hard wall with a spring. The set of equations of motion for such a system could be easily obtained using the principle of least action and Lagrangian mechanics in terms of small displacements $x_j = q_j - q_{j0}$ ( $q_j$'s are the generalized coordinates and $q_{j0}$'s are the equilibrium coordinates of the masses).\n",
    "$$\n",
    "\\begin{aligned}\n",
    "U (x_1, \\ldots, x_N) &= \\frac{1}{2} \\sum_{j,k} \\kappa_{jk} x_j x_k = \\frac{1}{2} \\mathbf{x^T K x}, \\qquad \\kappa_{jk} = \\left.\\frac{\\partial^2 U}{\\partial x_j \\partial x_k} \\right|_{xj = 0, x_k = 0}, \\\\\n",
    "T (\\dot{x}_1, \\dots, \\dot{x}_N; \\mathbf{x}) &= \\frac{1}{2}\\sum_{j, k} a_{jk}(\\mathbf{x}) \\dot{x}_j \\dot{x}_k = \\frac{1}{2} \\mathbf{\\dot{x}^T M \\dot{x}}.\n",
    "\\end{aligned}\n",
    "$$\n",
    "In the case of our 1-dimensional system $\\mathbf{K}$ is a matrix with elements $\\kappa_{jk} > 0$ and $\\mathbf{M}$ is a diagonal matrix with elements $m_j$. Clearly, the generalized forces exerted on mass $m_j > 0$ would be\n",
    "$$\n",
    "Q_j = - \\frac{\\partial U}{\\partial x_j} = -\\kappa_{jj} x_j + \\sum_{k \\neq j} \\kappa_{jk} (x_k - x_j),\n",
    "$$\n",
    "and the Lagrange equations would lead to the following system of equations of motion : \n",
    "$$\n",
    "\\mathbf{M} \\; \\vec{\\mathbf{\\ddot{x}}} = \\mathbf{Q} \\; \\vec{\\mathbf{{x}}}.\n",
    "$$\n",
    "Solutions to the above equations of motion (EOM) would take the form $x_j = A_j \\exp{(i \\omega t)}$; substituting these into the system of EOMs and equating the determinant of the transformed system to zero would result in a polynomial equation of degree $N$ in $\\omega^2$. The solutions to this equation would be maximum $N$ _characteristic frequencies_ $\\omega_{\\alpha}$ which would determine the magnitudes of the amplitudes of the superposition terms within the general solution.\n",
    "$$\n",
    "x_j = \\mathbb{Re} \\left\\{ \\sum_{\\alpha = 1}^{N} A_{j, \\omega_{\\alpha}} \\exp{(i \\phi_\\alpha)} \\exp{(i\\omega_\\alpha t)} \\right\\} = \\sum_{\\alpha} A_{k, \\omega_\\alpha} \\Theta_\\alpha.\n",
    "$$\n",
    "The set of $N$ new generalized coordinates $\\Theta_\\alpha$ are called _normal coordinates_; as the equations of motion for them would take the normal form $\\ddot{\\Theta}_\\alpha + \\omega^2_\\alpha \\Theta_\\alpha = 0$.\n",
    "\n",
    "The time complexity of the above analytical method would revert back to the time complexity of solving a polynomial equation of degree $N$. Although we could prove that for the energy to be a constant of motion, $\\omega$ could not have an imaginary part, still solving the characteristic equation is not a guaranteed computation and at best one might, for instance, fix a numerical solver and then determines the time complexity of its execution within a pre-determined error-tolerance."
   ]
  },
  {
   "cell_type": "markdown",
   "id": "e36838b0-6ccd-4116-abe8-f35f69b361e6",
   "metadata": {
    "jp-MarkdownHeadingCollapsed": true
   },
   "source": [
    "## Quantum Algorithm"
   ]
  },
  {
   "cell_type": "markdown",
   "id": "b4ac787e-19ff-4348-88a7-8cc7467ce2ce",
   "metadata": {},
   "source": [
    "The quantum algorithm devised in [Exponential Quantum Speedup in Simulating Coupled Classical Oscillators](https://journals.aps.org/prx/abstract/10.1103/PhysRevX.13.041041) relies on the following amplitude encoding of the systems dynamical variables in a normalized quantum state:\n",
    "$$\n",
    "|\\psi(t)\\rangle:= \\frac{1}{\\sqrt{2E}}\n",
    "\\begin{bmatrix}\n",
    "\\sqrt{\\mathbf{M}}\\;\\mathbf{\\dot{x}}(t)\\\\\n",
    "i \\mathbf{\\mu}(t)\n",
    "\\end{bmatrix}\n",
    "= \\frac{1}{\\sqrt{2E}}\n",
    "\\begin{bmatrix}\n",
    "\\mathbf{\\dot{y}}(t)\\\\\n",
    "i \\mathbf{B}^{\\dagger} \\mathbf{y}(t)\n",
    "\\end{bmatrix}\n",
    ", \\qquad\n",
    "Q_j = \\frac{1}{2} \\frac{\\partial |\\mu|^2}{\\partial x_j}\n",
    "$$\n",
    "The objective is then to find a Hamiltonian which would be responsible for the time evolution of the above state. Transforming $\\mathbf{x}$ to $\\mathbf{y}$ is what generates a Schrödinger-like equation for $\\mathbf{y}$ and consequently reveals $\\mathbf{H}$.\n",
    "$$\n",
    "\\sqrt{\\mathbf{M}} \\; \\vec{\\ddot{\\mathbf{y}}} = \\mathbf{Q} \\sqrt{\\mathbf{M}}^{-1} \\vec{\\mathbf{y}}\n",
    "\\quad\\Rightarrow\\quad \n",
    "\\vec{\\ddot{\\mathbf{y}}} = \\underset{\\mathbf{-A}}{\\underline{\\underline{\\sqrt{\\mathbf{M}}^{-1} \\mathbf{Q} \\sqrt{\\mathbf{M}}^{-1}}}} \\vec{\\mathbf{y}} \n",
    "\\quad\\Rightarrow\\quad \n",
    "\\vec{\\ddot{\\mathbf{y}}} + i \\sqrt{\\mathbf{A}} \\vec{\\dot{\\mathbf{y}}} = i \\sqrt{\\mathbf{A}} \\vec{\\dot{\\mathbf{y}}} - \\mathbf{A}\\vec{{\\mathbf{y}}}\n",
    "\\quad\\Rightarrow\\quad\n",
    "\\frac{d}{dt} \\left( \\vec{\\dot{\\mathbf{y}}} + i \\sqrt{\\mathbf{A}} \\vec{\\mathbf{y}} \\right) = i \\sqrt{\\mathbf{A}} \\left( \\vec{\\dot{\\mathbf{y}}} + i \\sqrt{\\mathbf{A}} \\vec{\\mathbf{y}} \\right).\n",
    "$$\n",
    "Multiplying the above equation by its complex conjugate and comparing it with the inner product of Schrödinger equations for $|\\psi(t)\\rangle$ and its dual\n",
    "$$\n",
    "\\langle \\dot{\\psi(t)}|\\dot{\\psi(t)}\\rangle = \n",
    "\\frac{1}{2E}\\;\\frac{d}{dt} \\left(\n",
    "\\begin{bmatrix}\n",
    "\\dot{\\mathbf{y}}^T &\n",
    "-i \\mathbf{y}^T \\mathbf{B}^{\\dagger}\n",
    "\\end{bmatrix}\n",
    "\\begin{bmatrix}\n",
    "\\dot{\\mathbf{y}}\\\\\n",
    "i \\mathbf{B} \\mathbf{y}\n",
    "\\end{bmatrix}\n",
    "\\right) =\n",
    "\\langle \\psi(t)| \\mathbf{H}^2 |\\psi(t)\\rangle.\n",
    "$$\n",
    "would instantly lead to:\n",
    "$$\n",
    "\\begin{aligned}\n",
    "\\mathbf{A} &= \\mathbf{B}\\mathbf{B}^{\\dagger} \\\\\n",
    "\\mathbf{H} &=\n",
    "\\begin{bmatrix}\n",
    "\\mathbf{0} & \\mathbf{B} \\\\\n",
    "\\mathbf{B}^{\\dagger} & \\mathbf{0}\n",
    "\\end{bmatrix}\n",
    "\\end{aligned}\n",
    "$$\n",
    "\n",
    "To identify $\\mathbf{B}$, one needs to map the $M := N(N+1)/2$ components of the vector $\\mu(t)$ to a proper set of basis kets. $\\mu(t)$ components span a subspace of an $N^2$-dimension vector space; hence it would be natural to map the components of $\\mu(t)$ to the two-register kets $|j, k\\rangle$ with the condition $j \\leq k$.\n",
    "\n",
    "Since $\\vec{\\ddot{\\mathbf{y}}} = - \\mathbf{A} \\; \\vec{\\mathbf{y}}$, $\\mathbf{M} \\; \\vec{\\mathbf{\\ddot{x}}} = \\mathbf{Q} \\; \\vec{\\mathbf{{x}}}$, and $\\vec{\\mathbf{{y}}} = \\sqrt{\\mathbf{M}} \\; \\vec{\\mathbf{{x}}}$, it is straightforward to see that\n",
    "$$\n",
    "\\mathbf{Q} = - \\sqrt{\\mathbf{M}}\\; \\mathbf{B}\\mathbf{B}^{\\dagger} \\sqrt{\\mathbf{M}},\n",
    "$$\n",
    "and\n",
    "$$\n",
    "\\mathbf{Q} = - \\sum_{j} \\kappa_{jj} |j\\rangle\\langle j| + \\sum_{j < k} \\kappa_{jk} ( |j\\rangle\\langle k| + |k\\rangle\\langle j| - |j\\rangle\\langle j| - |k\\rangle\\langle k|) = - \\sum_{j} \\sqrt{\\mathbf{M}}\\; \\mathbf{B} |j, j\\rangle\\langle j, j| \\mathbf{B}^{\\dagger} \\sqrt{\\mathbf{M}} + \\sum_{j < k}\\sqrt{\\mathbf{M}}\\; \\mathbf{B} |j, k\\rangle\\langle j, k| \\mathbf{B}^{\\dagger} \\sqrt{\\mathbf{M}}\n",
    "$$\n",
    "which means that\n",
    "$$\n",
    "\\begin{aligned}\n",
    "\\sqrt{\\mathbf{M}}\\; \\mathbf{B} |j, j\\rangle &= \\sqrt{\\kappa_{jj}} |j\\rangle, \\\\\n",
    "\\sqrt{\\mathbf{M}}\\; \\mathbf{B} |j, k\\rangle &= \\sqrt{\\kappa_{jk}} ( |j\\rangle - |k\\rangle. \\quad (j < k)\n",
    "\\end{aligned}\n",
    "$$"
   ]
  },
  {
   "cell_type": "markdown",
   "id": "08efdb4c-f4ad-4f0d-9e43-cf318267ea00",
   "metadata": {
    "jp-MarkdownHeadingCollapsed": true
   },
   "source": [
    "## __TASK 1__ - Toy Problem ($N=2$)"
   ]
  },
  {
   "cell_type": "markdown",
   "id": "0c3361f6-c0c8-43ac-8f19-b5ba2ac1d9e5",
   "metadata": {},
   "source": [
    "For $N=2$ we could use the following encodings to create a matrix representation of $\\sqrt{\\mathbf{M}} \\; \\mathbf{B}$ and consequently $\\mathbf{B}$ and $\\mathbf{H}$.\n",
    "$$\n",
    "\\begin{aligned}\n",
    "|0\\rangle &= \n",
    "\\begin{bmatrix}\n",
    "1\\\\\n",
    "0\n",
    "\\end{bmatrix}\\\\\n",
    "|1\\rangle &= \n",
    "\\begin{bmatrix}\n",
    "0\\\\\n",
    "1\n",
    "\\end{bmatrix} \\\\\n",
    "|0, 0\\rangle &= \n",
    "\\begin{bmatrix}\n",
    "1\\\\\n",
    "0\\\\\n",
    "0\n",
    "\\end{bmatrix}\n",
    "\\quad\n",
    "|0, 1\\rangle = \n",
    "\\begin{bmatrix}\n",
    "0\\\\\n",
    "0\\\\\n",
    "1\n",
    "\\end{bmatrix} \\\\\n",
    "|1, 1\\rangle &= \n",
    "\\begin{bmatrix}\n",
    "0\\\\\n",
    "1\\\\\n",
    "0\n",
    "\\end{bmatrix}\n",
    "\\end{aligned}\n",
    "$$\n",
    "This would lead to \n",
    "$$\n",
    "\\mathbf{B} =\n",
    "\\begin{bmatrix}\n",
    "\\sqrt{\\frac{\\kappa_{00}}{m_0}} & 0 &  \\sqrt{\\frac{\\kappa_{01}}{m_0}} \\\\\n",
    "0 & \\sqrt{\\frac{\\kappa_{11}}{m_1}} & -\\sqrt{\\frac{\\kappa_{01}}{m_1}}\n",
    "\\end{bmatrix}\n",
    "\\qquad\n",
    "\\mathbf{H} = -\n",
    "\\begin{bmatrix}\n",
    "0 & 0 & \\sqrt{\\frac{\\kappa_{00}}{m_0}} & 0 &  \\sqrt{\\frac{\\kappa_{01}}{m_0}} \\\\\n",
    "0 & 0 & 0 & \\sqrt{\\frac{\\kappa_{11}}{m_1}} & -\\sqrt{\\frac{\\kappa_{01}}{m_1}} \\\\\n",
    "\\sqrt{\\frac{\\kappa_{00}}{m_0}} & 0 & 0 & 0 & 0 \\\\\n",
    "0 & \\sqrt{\\frac{\\kappa_{11}}{m_1}} & 0 & 0 & 0 \\\\\n",
    "\\sqrt{\\frac{\\kappa_{01}}{m_0}} & -\\sqrt{\\frac{\\kappa_{01}}{m_1}} & 0 & 0 & 0\n",
    "\\end{bmatrix}\n",
    "$$\n",
    "For the initial conditions we take $\\dot{y}(0) = 1$, $\\dot{y}(1) = -1$, and $y(0) = y(1) = 0$  which corresponds to a total energy $E=1/2(\\dot{y}^2(0) + \\dot{y}^2(1)) = 1$ and consequently to the initial state:\n",
    "$$\n",
    "|\\psi(0)\\rangle = \n",
    "\\begin{bmatrix}\n",
    "\\frac{1}{\\sqrt{2}} \\\\\n",
    "-\\frac{1}{\\sqrt{2}} \\\\\n",
    "0 \\\\\n",
    "0 \\\\\n",
    "0\n",
    "\\end{bmatrix}.\n",
    "$$"
   ]
  },
  {
   "cell_type": "code",
   "execution_count": null,
   "id": "359ec447",
   "metadata": {},
   "outputs": [],
   "source": [
    "# Execute this cell if you are not already authenticated\n",
    "# and do not have a valid API token\n",
    "import os\n",
    "import classiq\n",
    "# connecting through proxy\n",
    "os.environ['http_proxy'] = \"http://127.0.0.1:20171\" \n",
    "os.environ['https_proxy'] = \"http://127.0.0.1:20171\"\n",
    "classiq.authenticate()"
   ]
  },
  {
   "cell_type": "markdown",
   "id": "ead4dffc-2ff8-4136-8934-3f059043fede",
   "metadata": {},
   "source": [
    "### [ T-1 ] define the initial state"
   ]
  },
  {
   "cell_type": "markdown",
   "id": "0be8a6da-a29e-4f9c-b7e8-9c06a44611c5",
   "metadata": {},
   "source": [
    "In the Hamiltonian simulation depicted above, $\\mathbf{B}$ has an $N \\times M$ matrix representation and $\\mathbf{H}$ is an $(N+M) \\times (N+M)$ matrix where $M=N(N+1)/2$. This means the dimension of the vectors $\\mathbf{H}$ operates on could not be encoded with an integral number of qubits. This means that the operators $\\mathbf{H}$ and the states they could operate create subspaces of vector spaces encoded by integral numbers of qubits. In fact, the minimum number of qubits necessary for encoding the two higher-dimensional vector spaces is:\n",
    "$$\n",
    "\\left\\lceil \\log_2{\\left(\\frac{N^2}{2} + \\frac{3N}{2}\\right)} \\right\\rceil.\n",
    "$$"
   ]
  },
  {
   "cell_type": "code",
   "execution_count": 1,
   "id": "75aec629-c786-4dde-9a74-0aeb4dbe3e5b",
   "metadata": {},
   "outputs": [
    {
     "name": "stdout",
     "output_type": "stream",
     "text": [
      "number of qubits needed : 3\n"
     ]
    }
   ],
   "source": [
    "import math\n",
    "import numpy as np\n",
    "from sympy import sqrt\n",
    "\n",
    "# Define the initial state as a list of amplitudes: \n",
    "# NOTE: the state and consequently operators should \n",
    "#       be padded with 0's so the number of their \n",
    "#       components would be a power of 2 (i.e. an \n",
    "#       integral number of qubits to be used for \n",
    "#       the computation)\n",
    "N = 2\n",
    "size = math.ceil(math.log(N**2/2 + 3*N/2, 2))\n",
    "print(f'number of qubits needed : {size}')\n",
    "initial_state = np.zeros(2**size)\n",
    "\n",
    "initial_state[0] = 1/sqrt(2)\n",
    "initial_state[1] = -1/sqrt(2)"
   ]
  },
  {
   "cell_type": "markdown",
   "id": "827c6543-7eb1-43cc-8feb-9702a33fbaf2",
   "metadata": {},
   "source": [
    "### [ T-1 ] define the Hamiltonian matrix rep symbolically"
   ]
  },
  {
   "cell_type": "markdown",
   "id": "baa2165f-39a8-41ce-ac4d-cadf6514b7f9",
   "metadata": {},
   "source": [
    "One could automate padding of the Hamiltonian matrix to the nearest necessary qubits `(len(matrix) - 1).bit_length()` to find the decomposition of the padded matrix in the so called Pauli Terms. In the case of the toy problem ($N=2$), 3 qubits would be required; consequently, Pauli terms would be of the form $P_i \\otimes P_j \\otimes P_k$ where $P_i \\in \\{ I, \\sigma_x, \\sigma_z \\}$. The number of these Pauli terms would be 27 for 3 qubits."
   ]
  },
  {
   "cell_type": "code",
   "execution_count": 2,
   "id": "8e7d1b6c",
   "metadata": {},
   "outputs": [],
   "source": [
    "from sympy import symbols, conjugate\n",
    "from sympy import I as j\n",
    "from sympy.physics.quantum import TensorProduct\n",
    "from classiq import PauliTerm, Pauli\n",
    "from enum import Enum\n",
    "\n",
    "# Define symbolic parameters\n",
    "k00, k01, k11, m0, m1 = symbols('k00 k01 k11 m0 m1')\n",
    "\n",
    "# Define the Hamiltonian matrix with square root terms\n",
    "hamiltonian_matrix = [\n",
    "    [0, 0, sqrt(k00/m0), 0, sqrt(k01/m0)],\n",
    "    [0, 0, 0, sqrt(k11/m1), -sqrt(k01/m1)],\n",
    "    [sqrt(k00/m1), 0, 0, 0, 0],\n",
    "    [0, sqrt(k11/m1), 0, 0, 0],\n",
    "    [sqrt(k01/m0), -sqrt(k01/m1), 0, 0, 0]\n",
    "]"
   ]
  },
  {
   "cell_type": "markdown",
   "id": "62c82b5f",
   "metadata": {},
   "source": [
    "Out of the corresponding 27 Pauli terms for the $8 \\times 8$ padded Hamiltonian matrix, only 10 have non-zero coefficients."
   ]
  },
  {
   "cell_type": "code",
   "execution_count": 3,
   "id": "d21a0529",
   "metadata": {},
   "outputs": [],
   "source": [
    "# 1 -> (0, 'III')\n",
    "# 2 -> (0, 'IIX')\n",
    "# 3 -> (0, 'IIZ')\n",
    "# 4 -> (conjugate(sqrt(k00/m0))/8 + conjugate(sqrt(k00/m1))/8 + conjugate(sqrt(k11/m1))/4, 'IXI')\n",
    "# 5 -> (0, 'IXX')\n",
    "# 6 -> (conjugate(sqrt(k00/m0))/8 + conjugate(sqrt(k00/m1))/8 - conjugate(sqrt(k11/m1))/4, 'IXZ')\n",
    "# 7 -> (0, 'IZI')\n",
    "# 8 -> (0, 'IZX')\n",
    "# 9 -> (0, 'IZZ')\n",
    "# 10 -> (conjugate(sqrt(k01/m0))/4, 'XII')\n",
    "# 11 -> (-conjugate(sqrt(k01/m1))/4, 'XIX')\n",
    "# 12 -> (conjugate(sqrt(k01/m0))/4, 'XIZ')\n",
    "# 13 -> (0, 'XXI')\n",
    "# 14 -> (0, 'XXX')\n",
    "# 15 -> (0, 'XXZ')\n",
    "# 16 -> (conjugate(sqrt(k01/m0))/4, 'XZI')\n",
    "# 17 -> (-conjugate(sqrt(k01/m1))/4, 'XZX')\n",
    "# 18 -> (conjugate(sqrt(k01/m0))/4, 'XZZ')\n",
    "# 19 -> (0, 'ZII')\n",
    "# 20 -> (0, 'ZIX')\n",
    "# 21 -> (0, 'ZIZ')\n",
    "# 22 -> (conjugate(sqrt(k00/m0))/8 + conjugate(sqrt(k00/m1))/8 + conjugate(sqrt(k11/m1))/4, 'ZXI')\n",
    "# 23 -> (0, 'ZXX')\n",
    "# 24 -> (conjugate(sqrt(k00/m0))/8 + conjugate(sqrt(k00/m1))/8 - conjugate(sqrt(k11/m1))/4, 'ZXZ')\n",
    "# 25 -> (0, 'ZZI')\n",
    "# 26 -> (0, 'ZZX')\n",
    "# 27 -> (0, 'ZZZ')\n",
    "hamiltonian = [\n",
    "    PauliTerm(pauli=[Pauli.I, Pauli.X, Pauli.I], coefficient=conjugate(sqrt(k00/m0))/8 + conjugate(sqrt(k00/m1))/8 + conjugate(sqrt(k11/m1))/4), \n",
    "    PauliTerm(pauli=[Pauli.I, Pauli.X, Pauli.Z], coefficient=conjugate(sqrt(k00/m0))/8 + conjugate(sqrt(k00/m1))/8 - conjugate(sqrt(k11/m1))/4), \n",
    "    PauliTerm(pauli=[Pauli.X, Pauli.I, Pauli.I], coefficient=conjugate(sqrt(k01/m0))/4), \n",
    "    PauliTerm(pauli=[Pauli.X, Pauli.I, Pauli.X], coefficient=-conjugate(sqrt(k01/m1))/4), \n",
    "    PauliTerm(pauli=[Pauli.X, Pauli.I, Pauli.Z], coefficient=conjugate(sqrt(k01/m0))/4), \n",
    "    PauliTerm(pauli=[Pauli.X, Pauli.Z, Pauli.I], coefficient=conjugate(sqrt(k01/m0))/4), \n",
    "    PauliTerm(pauli=[Pauli.X, Pauli.Z, Pauli.X], coefficient=-conjugate(sqrt(k01/m1))/4), \n",
    "    PauliTerm(pauli=[Pauli.X, Pauli.Z, Pauli.Z], coefficient=conjugate(sqrt(k01/m0))/4), \n",
    "    PauliTerm(pauli=[Pauli.Z, Pauli.X, Pauli.I], coefficient=conjugate(sqrt(k00/m0))/8 + conjugate(sqrt(k00/m1))/8 + conjugate(sqrt(k11/m1))/4), \n",
    "    PauliTerm(pauli=[Pauli.Z, Pauli.X, Pauli.Z], coefficient=conjugate(sqrt(k00/m0))/8 + conjugate(sqrt(k00/m1))/8 - conjugate(sqrt(k11/m1))/4)\n",
    "]"
   ]
  },
  {
   "cell_type": "markdown",
   "id": "a25d4ced-7161-4136-8558-85a6cb50ca82",
   "metadata": {},
   "source": [
    "### [ T-1 ] evaluate Hamiltonian for its parameters"
   ]
  },
  {
   "cell_type": "code",
   "execution_count": 4,
   "id": "0a9feae9-b040-4e10-a8f9-6c2c753de21e",
   "metadata": {},
   "outputs": [
    {
     "name": "stdout",
     "output_type": "stream",
     "text": [
      "PauliTerm(pauli=[<Pauli.I: 0>, <Pauli.X: 1>, <Pauli.I: 0>], coefficient=0.519574565496216)\n",
      "PauliTerm(pauli=[<Pauli.I: 0>, <Pauli.X: 1>, <Pauli.Z: 3>], coefficient=-0.0927978701995788)\n",
      "PauliTerm(pauli=[<Pauli.X: 1>, <Pauli.I: 0>, <Pauli.I: 0>], coefficient=0.353553390593274)\n",
      "PauliTerm(pauli=[<Pauli.X: 1>, <Pauli.I: 0>, <Pauli.X: 1>], coefficient=-0.250000000000000)\n",
      "PauliTerm(pauli=[<Pauli.X: 1>, <Pauli.I: 0>, <Pauli.Z: 3>], coefficient=0.353553390593274)\n",
      "PauliTerm(pauli=[<Pauli.X: 1>, <Pauli.Z: 3>, <Pauli.I: 0>], coefficient=0.353553390593274)\n",
      "PauliTerm(pauli=[<Pauli.X: 1>, <Pauli.Z: 3>, <Pauli.X: 1>], coefficient=-0.250000000000000)\n",
      "PauliTerm(pauli=[<Pauli.X: 1>, <Pauli.Z: 3>, <Pauli.Z: 3>], coefficient=0.353553390593274)\n",
      "PauliTerm(pauli=[<Pauli.Z: 3>, <Pauli.X: 1>, <Pauli.I: 0>], coefficient=0.519574565496216)\n",
      "PauliTerm(pauli=[<Pauli.Z: 3>, <Pauli.X: 1>, <Pauli.Z: 3>], coefficient=-0.0927978701995788)\n"
     ]
    }
   ],
   "source": [
    "# Substitute specific values into the symbolic Hamiltonian\n",
    "k00_value = 1.0\n",
    "k01_value = 2.0\n",
    "k11_value = 3.0\n",
    "m0_value = 1.0\n",
    "m1_value = 2.0\n",
    "\n",
    "evaluated_hamiltonian = [\n",
    "    PauliTerm(pauli=\n",
    "              term.pauli,\n",
    "              coefficient=term.coefficient.subs(\n",
    "                  {k00: k00_value, k01: k01_value, \n",
    "                   k11: k11_value, \n",
    "                   m0: m0_value, m1: m1_value}))\n",
    "    for term in hamiltonian\n",
    "]\n",
    "\n",
    "for t in evaluated_hamiltonian:\n",
    "    print(t)"
   ]
  },
  {
   "cell_type": "markdown",
   "id": "9cc58310-65ba-4234-82f2-b8d63af64977",
   "metadata": {},
   "source": [
    "### [ T-1 ] simulate system evolution in time"
   ]
  },
  {
   "cell_type": "code",
   "execution_count": 5,
   "id": "314639df",
   "metadata": {},
   "outputs": [
    {
     "name": "stdout",
     "output_type": "stream",
     "text": [
      "Classiq's exponentiation depth is 55\n",
      "Classiq's exponentiation CX-count is 32\n",
      "Opening: https://platform.classiq.io/circuit/8ba6729a-85a4-4afe-b191-c4ae3e233f71?version=0.45.0\n"
     ]
    }
   ],
   "source": [
    "from classiq import QArray, QBit, prepare_amplitudes\n",
    "from classiq import CustomHardwareSettings, Preferences, QuantumProgram, create_model, qfunc, set_preferences\n",
    "from classiq import suzuki_trotter\n",
    "from classiq import show, synthesize, write_qmod\n",
    "\n",
    "@qfunc\n",
    "def main() -> None:\n",
    "    state = QArray(\"state\")\n",
    "    prepare_amplitudes(amplitudes=initial_state.tolist(), bound=0.01, out=state)\n",
    "    suzuki_trotter(evaluated_hamiltonian, evolution_coefficient=1, order=1, repetitions=1, qbv=state)\n",
    "\n",
    "qmod = create_model(main)\n",
    "qmod = set_preferences(qmod, preferences=Preferences(custom_hardware_settings=CustomHardwareSettings(basis_gates=[\"cx\", \"u\"])))\n",
    "write_qmod(qmod, \"task1-toy-N-2\")\n",
    "qprog = synthesize(qmod)\n",
    "circuit = QuantumProgram.from_qprog(qprog)\n",
    "\n",
    "print(f\"Classiq's exponentiation depth is {circuit.transpiled_circuit.depth}\")\n",
    "\n",
    "# Check if 'cx' gate is present in the count_ops dictionary\n",
    "cx_count = circuit.transpiled_circuit.count_ops.get('cx', 0)\n",
    "print(f\"Classiq's exponentiation CX-count is {cx_count}\")\n",
    "\n",
    "show(qprog)"
   ]
  },
  {
   "cell_type": "markdown",
   "id": "6b7327c7-f8ee-4266-8b3f-83040d8bcd0a",
   "metadata": {},
   "source": [
    "## __TASK 2__ - Case $N=4$"
   ]
  },
  {
   "cell_type": "markdown",
   "id": "d5064362-cb27-4ff9-8e90-3c082b1462ec",
   "metadata": {},
   "source": [
    "For $N=4$, operator $\\mathbf{B}$ would have a $4 \\times 10$ matrix representation and the Hamiltonian would be a sparse $14 \\times 14$ matrix. Our general $|i, j\\rangle$ encoding looks like this:\n",
    "$$\n",
    "\\begin{array}{c c | c c c c c}\n",
    " & \\mathbf{i} & 0 & 1 & 2 & \\dots & N-1\\\\\n",
    "\\mathbf{j} & & & & & & \\\\ \n",
    "\\hline\n",
    "0 & & \\mathbf{v}_0 & & & & \\\\ \n",
    "1 & & \\mathbf{v}_N & \\mathbf{v}_1 & & & \\\\ \n",
    "2 & & \\mathbf{v}_{N+1}& \\mathbf{v}_{2N}& \\mathbf{v}_2 & & \\\\\n",
    "\\vdots & & \\vdots & \\vdots & \\vdots & \\ddots & \\dots \\\\ \n",
    "N-1 & & \\mathbf{v}_{2N-1} & \\mathbf{v}_{3N-3} & \\mathbf{v}_{4N-6} & \\dots & \\mathbf{v}_{N-1} \n",
    "\\end{array}\n",
    ", \\quad\n",
    "\\mathbf{v}_{k} = \n",
    "\\begin{bmatrix}\n",
    "0 \\\\\n",
    "\\vdots \\\\\n",
    "1\\\\\n",
    "\\vdots\\\\\n",
    "0\n",
    "\\end{bmatrix} ( \\mathbf{v}_k[k] = 1 , \\mathbf{v}_k[i \\ne k] = 0 )\n",
    "$$\n",
    "This encoding would result in the following matrix representation for $\\mathbf{B}$ :\n",
    "$$\n",
    "\\mathbf{B} = \n",
    "\\begin{bmatrix}\n",
    "s_{0} & \n",
    "0 & 0 & \\dots & 0 & \n",
    "r_{01} & \\dots & r_{0(N-1)} & \n",
    "r_{12} & \\dots & r_{1(N-1)} &\n",
    "\\dots\\dots & r_{(N-2)(N-1}\n",
    "\\\\\n",
    "0 & s_{1} & \n",
    "0 & \\dots & 0 &\n",
    "t_{01} & \\dots & t_{0(N-1)} &\n",
    "t_{12} & \\dots & t_{1(N-1)} &\n",
    "\\dots\\dots & t_{(N-2)(N-1}\n",
    "\\\\\n",
    "0 & 0 & s_{2} & \n",
    "\\ddots & \\dots & \n",
    "0 & \\dots &  0 & 0 &  \\dots & 0 &  \\dots\\dots & 0\n",
    "\\\\\n",
    "\\vdots & \\vdots & \\vdots & \\ddots & \\dots &\n",
    "\\vdots & & \\vdots & \\vdots &  & \\vdots &  & \\vdots\n",
    "\\\\\n",
    "0 & 0 & 0 & \\dots & s_{(N-1)} &\n",
    "0 & \\dots &  0 & 0 &  \\dots & 0 &  \\dots\\dots & 0\n",
    "\\\\\n",
    "\\end{bmatrix}\n",
    ", \\quad\n",
    "\\begin{aligned}\n",
    "s_{i}  &= \\sqrt{\\kappa_{ii}/m_i} \\\\\n",
    "r_{jk} &= \\sqrt{\\kappa_{jk}/m_0} \\\\\n",
    "t_{jk} &= -\\sqrt{\\kappa_{jk}/m_1}\n",
    "\\end{aligned}\n",
    "$$\n"
   ]
  },
  {
   "cell_type": "markdown",
   "id": "4d6b23c7-fd79-4c44-9ce3-305b738c9dd4",
   "metadata": {},
   "source": [
    "### [ T-2 ] initial state"
   ]
  },
  {
   "cell_type": "markdown",
   "id": "3429c03f-d815-4f34-8bfd-b901a925c0ff",
   "metadata": {},
   "source": [
    "Similar to the case of the toy problem, initial conditions are : $\\dot{y}(0) = 1$, $\\dot{y}(1) = -1$, and $y(0) = y(1) = 0$"
   ]
  },
  {
   "cell_type": "code",
   "execution_count": null,
   "id": "8fea99a6-c932-4ca9-8627-0593dc82ac4a",
   "metadata": {},
   "outputs": [],
   "source": [
    "import math\n",
    "import numpy as np\n",
    "from sympy import sqrt\n",
    "from classiq import QArray, QBit, prepare_amplitudes\n",
    "\n",
    "# Define the initial state as a list of amplitudes: \n",
    "# NOTE: the state and consequently operators should \n",
    "#       be padded with 0's so the number of their \n",
    "#       components would be a power of 2 (i.e. an \n",
    "#       integral number of qubits to be used for \n",
    "#       the computation)\n",
    "N = 4\n",
    "size = math.ceil(math.log(N**2/2 + 3*N/2, 2))\n",
    "print(f'Hamiltonian matrix dim  : {int(N**2/2 + 3*N/2)}x{int(N**2/2 + 3*N/2)}')\n",
    "print(f'number of qubits needed : {size}')\n",
    "initial_state = np.zeros(2**size)\n",
    "\n",
    "initial_state[0] = 1/sqrt(2)\n",
    "initial_state[1] = -1/sqrt(2)"
   ]
  },
  {
   "cell_type": "markdown",
   "id": "4de9f1f2-feef-401a-b0ad-376c6d3d31bc",
   "metadata": {},
   "source": [
    "### [ T-2 ] Hamiltonian matrix and its Pauli terms expansion"
   ]
  },
  {
   "cell_type": "markdown",
   "id": "1d2dc749-58e6-4d74-82b5-3f33da8a80a2",
   "metadata": {},
   "source": [
    "Hamiltonian matrix padded to size $2^n \\times 2^n$ is expanded in terms of Pauli terms.\n",
    "$$\n",
    "\\mathbf{H} := \\sum_{k = 1}^{4^n} c_k (\\otimes_{j=1}^n P_{jk}),\\quad \n",
    "P_{jk} \\in \\left\\{ I, \\sigma_x, \\sigma_y, \\sigma_z \\right\\}\n",
    "$$\n",
    "Using the orthonormality relation \n",
    "$$\n",
    "\\text{Tr}\n",
    "\\left\\{ \n",
    "\\left( \\otimes_{j=1}^{n} P_{jk} \\right) \n",
    "\\left( \\otimes_{j^{\\prime}=1}^{n} P_{j^{\\prime}k^{\\prime}} \\right) \n",
    "\\right\\} = \n",
    "\\text{Tr} (P_{1k}P_{1k^{\\prime}})\n",
    "\\text{Tr} (P_{2k}P_{2k^{\\prime}})\n",
    "\\cdots\n",
    "\\text{Tr} (P_{nk}P_{nk^{\\prime}}) =\n",
    "2^n \\delta_{k k^{\\prime}}\n",
    "\\prod_{j, j^{\\prime}} \n",
    "\\delta_{j j^{\\prime}}\n",
    "$$\n",
    "the expansion coefficients could are then generated following the Frobenius inner product:\n",
    "$$\n",
    "\\langle \\mathbf{H}^{\\dagger}, (\\otimes_{j^{\\prime}=1}^n P_{j^{\\prime}k^{\\prime}}) \\rangle =\n",
    "\\text{Tr} \\left\\{ \\mathbf{H} . (\\otimes_{j^{\\prime}=1}^n P_{j^{\\prime}k^{\\prime}}) \\right\\} =\n",
    "\\text{Tr} \\left\\{ \\sum_{k = 1}^{4^n} c_k (\\otimes_{j=1}^n P_{jk}) . (\\otimes_{j^{\\prime}=1}^n P_{j^{\\prime}k^{\\prime}}) \\right\\} =\n",
    "\\sum_{k = 1}^{4^n} c_k \n",
    "\\text{Tr}\n",
    "\\left\\{ \n",
    "\\left( \\otimes_{j=1}^{n} P_{jk} \\right) \n",
    "\\left( \\otimes_{j^{\\prime}=1}^{n} P_{j^{\\prime}k^{\\prime}} \\right) \n",
    "\\right\\} =\n",
    "2^n c_{k^{\\prime}}\n",
    "$$\n",
    "One could start with a symbolic definition of the Hamiltonian matrix."
   ]
  },
  {
   "cell_type": "code",
   "execution_count": null,
   "id": "bf16af9a-505e-4c34-aaa6-4d20cef5b2cd",
   "metadata": {},
   "outputs": [],
   "source": [
    "from sympy import symbols, sqrt, Matrix\n",
    "\n",
    "# Define symbolic parameters\n",
    "k00, k01, k02, k03, k11, k12, k13, k22, k23, k33, m0, m1, m2, m3 = symbols('k00 k01 k02 k03 k11 k12 k13 k22 k23 k33 m0 m1 m2 m3')\n",
    "\n",
    "# Define the Hamiltonian matrix with square root terms\n",
    "hamiltonian_matrix = Matrix([\n",
    "    [0, 0, 0, 0, sqrt(k00/m0), 0, 0, 0, sqrt(k01/m0), sqrt(k02/m0), sqrt(k03/m0), sqrt(k12/m0), sqrt(k13/m0), sqrt(k23/m0)],\n",
    "    [0, 0, 0, 0, 0, sqrt(k11/m1), 0, 0, -sqrt(k01/m1), -sqrt(k02/m1), -sqrt(k03/m1), -sqrt(k12/m1), -sqrt(k13/m1), -sqrt(k23/m1)],\n",
    "    [0, 0, 0, 0, 0, 0, sqrt(k22/m2), 0, 0, 0, 0, 0, 0, 0],\n",
    "    [0, 0, 0, 0, 0, 0, 0, sqrt(k33/m3), 0, 0, 0, 0, 0, 0],\n",
    "    [sqrt(k00/m0), 0, 0, 0, 0, 0, 0, 0, 0, 0, 0, 0, 0, 0],\n",
    "    [0, sqrt(k11/m1), 0, 0, 0, 0, 0, 0, 0, 0, 0, 0, 0, 0],\n",
    "    [0, 0, sqrt(k22/m2), 0, 0, 0, 0, 0, 0, 0, 0, 0, 0, 0],\n",
    "    [0, 0, 0, sqrt(k33/m3), 0, 0, 0, 0, 0, 0, 0, 0, 0, 0],\n",
    "    [sqrt(k01/m0), -sqrt(k01/m1), 0, 0, 0, 0, 0, 0, 0, 0, 0, 0, 0, 0],\n",
    "    [sqrt(k02/m0), -sqrt(k02/m1), 0, 0, 0, 0, 0, 0, 0, 0, 0, 0, 0, 0],\n",
    "    [sqrt(k03/m0), -sqrt(k03/m1), 0, 0, 0, 0, 0, 0, 0, 0, 0, 0, 0, 0],\n",
    "    [sqrt(k12/m0), -sqrt(k12/m1), 0, 0, 0, 0, 0, 0, 0, 0, 0, 0, 0, 0],\n",
    "    [sqrt(k13/m0), -sqrt(k13/m1), 0, 0, 0, 0, 0, 0, 0, 0, 0, 0, 0, 0],\n",
    "    [sqrt(k23/m0), -sqrt(k23/m1), 0, 0, 0, 0, 0, 0, 0, 0, 0, 0, 0, 0]\n",
    "])"
   ]
  },
  {
   "cell_type": "markdown",
   "id": "25bee557-4931-44fd-bc81-7ae3d6d2ec5e",
   "metadata": {},
   "source": [
    "Next, one could obtain the required Pauli terms for $\\mathbf{H}$ expansion."
   ]
  },
  {
   "cell_type": "code",
   "execution_count": null,
   "id": "e3cf5864-2664-4695-9339-e10fb7fbc072",
   "metadata": {},
   "outputs": [],
   "source": [
    "## to be revised with new Coded and tested functions"
   ]
  },
  {
   "cell_type": "markdown",
   "id": "7aa52742-486e-4229-9e33-9a0bd05bb785",
   "metadata": {},
   "source": [
    "To talk in Classiq terms, the list of $3^n$ coefficients and the corresponding bases need to be converted to `PauliTerms`."
   ]
  },
  {
   "cell_type": "code",
   "execution_count": null,
   "id": "a8fe34e5-7614-4c5c-a895-077c4339065c",
   "metadata": {},
   "outputs": [],
   "source": [
    "## to be revised with new Coded and tested functions"
   ]
  },
  {
   "cell_type": "markdown",
   "id": "413e8b16-aeec-44f0-9fc3-3890bfc8a39b",
   "metadata": {},
   "source": [
    "### [ T-2 ] evaluate a numerical Hamiltonian"
   ]
  },
  {
   "cell_type": "code",
   "execution_count": null,
   "id": "58e87407-319d-442f-ad6e-943fc62ef94d",
   "metadata": {},
   "outputs": [],
   "source": [
    "# Substitute specific values into the symbolic Hamiltonian\n",
    "k00_value = 1.0\n",
    "k01_value = 2.0\n",
    "k02_value = 2.0\n",
    "k03_value = 2.0\n",
    "k11_value = 3.0\n",
    "k12_value = 3.0\n",
    "k13_value = 3.0\n",
    "k22_value = 1.0\n",
    "k23_value = 2.0\n",
    "k33_value = 4.0\n",
    "m0_value = 1.0\n",
    "m1_value = 2.0\n",
    "m2_value = 3.0\n",
    "m3_value = 4.0\n",
    "\n",
    "evaluated_hamiltonian = [\n",
    "    PauliTerm(pauli=term.pauli, \n",
    "              coefficient=term.coefficient.subs(\n",
    "                  {k00: k00_value, k01: k01_value, k02: k02_value, k03: k03_value, \n",
    "                   k11: k11_value, k12: k12_value, k13: k13_value, \n",
    "                   k22: k22_value, k23: k23_value, \n",
    "                   k33: k33_value, \n",
    "                   m0: m0_value, m1: m1_value, m2: m2_value, m3: m3_value}))\n",
    "    for term in hamiltonian\n",
    "]"
   ]
  },
  {
   "cell_type": "markdown",
   "id": "f72090a8-6e4f-47e8-a430-5c97af123e1d",
   "metadata": {},
   "source": [
    "### [ T-2 ] simulate system evolution in time"
   ]
  },
  {
   "cell_type": "code",
   "execution_count": null,
   "id": "80fbff49-b5df-4822-9903-3ff36cde5a41",
   "metadata": {},
   "outputs": [],
   "source": [
    "from classiq import CustomHardwareSettings, Preferences, QuantumProgram, allocate, create_model, qfunc, set_preferences, show, suzuki_trotter, synthesize, write_qmod\n",
    "\n",
    "@qfunc\n",
    "def main() -> None:\n",
    "    state = QArray(\"state\")\n",
    "    allocate(len(evaluated_hamiltonian[0].pauli), state)\n",
    "    #prepare_state(probabilities=initial_state, bound=0.01, out=state)\n",
    "    suzuki_trotter(evaluated_hamiltonian, evolution_coefficient=1, order=1, repetitions=1, qbv=state)\n",
    "\n",
    "qmod = create_model(main)\n",
    "qmod = set_preferences(qmod, preferences=Preferences(custom_hardware_settings=CustomHardwareSettings(basis_gates=[\"cx\", \"u\"])))\n",
    "write_qmod(qmod, \"task2-case-N-4\")\n",
    "qprog = synthesize(qmod)\n",
    "circuit = QuantumProgram.from_qprog(qprog)\n",
    "\n",
    "print(f\"Classiq's exponentiation depth is {circuit.transpiled_circuit.depth}\")\n",
    "\n",
    "# Check if 'cx' gate is present in the count_ops dictionary\n",
    "cx_count = circuit.transpiled_circuit.count_ops.get('cx', 0)\n",
    "print(f\"Classiq's exponentiation CX-count is {cx_count}\")\n",
    "\n",
    "show(qprog)\n"
   ]
  },
  {
   "cell_type": "code",
   "execution_count": null,
   "id": "90692661-6f67-4198-8869-9a1f433ac378",
   "metadata": {},
   "outputs": [],
   "source": []
  }
 ],
 "metadata": {
  "kernelspec": {
   "display_name": "Python 3 (ipykernel)",
   "language": "python",
   "name": "python3"
  },
  "language_info": {
   "codemirror_mode": {
    "name": "ipython",
    "version": 3
   },
   "file_extension": ".py",
   "mimetype": "text/x-python",
   "name": "python",
   "nbconvert_exporter": "python",
   "pygments_lexer": "ipython3",
   "version": "3.11.9"
  },
  "varInspector": {
   "cols": {
    "lenName": 16,
    "lenType": 16,
    "lenVar": 40
   },
   "kernels_config": {
    "python": {
     "delete_cmd_postfix": "",
     "delete_cmd_prefix": "del ",
     "library": "var_list.py",
     "varRefreshCmd": "print(var_dic_list())"
    },
    "r": {
     "delete_cmd_postfix": ") ",
     "delete_cmd_prefix": "rm(",
     "library": "var_list.r",
     "varRefreshCmd": "cat(var_dic_list()) "
    }
   },
   "types_to_exclude": [
    "module",
    "function",
    "builtin_function_or_method",
    "instance",
    "_Feature"
   ],
   "window_display": false
  }
 },
 "nbformat": 4,
 "nbformat_minor": 5
}
