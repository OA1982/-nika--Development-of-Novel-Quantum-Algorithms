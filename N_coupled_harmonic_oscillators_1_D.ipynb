{
 "cells": [
  {
   "cell_type": "markdown",
   "id": "9e5e3cd8",
   "metadata": {},
   "source": [
    "# Quantum Algorithm for Hamiltonian Simulation of Coupled Classical Oscillators"
   ]
  },
  {
   "cell_type": "markdown",
   "id": "95848500-e0bc-4a9e-a054-b653c76a3d23",
   "metadata": {},
   "source": [
    "The dynamics of a classical system of coupled oscillators with $s$ degrees of freedom could accurately be described by series of _normal modes_. Our objective here is to deploy a quantum algorithm that would meaningfully deliver the dynamics of a 1-dimensional system of $N$ coupled classical oscillators through a Hamiltonian simulation over time."
   ]
  },
  {
   "cell_type": "markdown",
   "id": "96f2a974-d23d-40ef-9d08-713d5d404b61",
   "metadata": {},
   "source": [
    "## Introduction"
   ]
  },
  {
   "cell_type": "markdown",
   "id": "f989545a-f6c6-4ba3-86c8-fafc17aa7935",
   "metadata": {},
   "source": [
    "A 1-dimensional system of coupled oscillators is composed of $N$ masses interacting with each other according to Hook's law and each mass could also be imagined to be connected to a hard wall with a spring. The set of equations of motion for such a system could be easily obtained using the principle of least action and Lagrangian mechanics in terms of small displacements $x_j = q_j - q_{j0}$ ( $q_j$'s are the generalized coordinates and $q_{j0}$'s are the equilibrium coordinates of the masses).\n",
    "$$\n",
    "\\begin{aligned}\n",
    "U (x_1, \\ldots, x_N) &= \\frac{1}{2} \\sum_{j,k} \\kappa_{jk} x_j x_k = \\frac{1}{2} \\mathbf{x^T K x}, \\qquad \\kappa_{jk} = \\left.\\frac{\\partial^2 U}{\\partial x_j \\partial x_k} \\right|_{xj = 0, x_k = 0}, \\\\\n",
    "T (\\dot{x}_1, \\dots, \\dot{x}_N; \\mathbf{x}) &= \\frac{1}{2}\\sum_{j, k} a_{jk}(\\mathbf{x}) \\dot{x}_j \\dot{x}_k = \\frac{1}{2} \\mathbf{\\dot{x}^T M \\dot{x}}.\n",
    "\\end{aligned}\n",
    "$$\n",
    "In the case of our 1-dimensional system $\\mathbf{K}$ is a matrix with elements $\\kappa_{jk} > 0$ and $\\mathbf{M}$ is a diagonal matrix with elements $m_j$. Clearly, the generalized forces exerted on mass $m_j > 0$ would be\n",
    "$$\n",
    "Q_j = - \\frac{\\partial U}{\\partial x_j} = -\\kappa_{jj} x_j + \\sum_{k \\neq j} \\kappa_{jk} (x_k - x_j),\n",
    "$$\n",
    "and the Lagrange equations would lead to the following system of equations of motion : \n",
    "$$\n",
    "\\mathbf{M} \\; \\vec{\\mathbf{\\ddot{x}}} = \\mathbf{Q} \\; \\vec{\\mathbf{{x}}}.\n",
    "$$\n",
    "Solutions to the above equations of motion (EOM) would take the form $x_j = A_j \\exp{(i \\omega t)}$; substituting these into the system of EOMs and equating the determinant of the transformed system to zero would result in a polynomial equation of degree $N$ in $\\omega^2$. The solutions to this equation would be maximum $N$ _characteristic frequencies_ $\\omega_{\\alpha}$ which would determine the magnitudes of the amplitudes of the superposition terms within the general solution.\n",
    "$$\n",
    "x_j = \\mathbb{Re} \\left\\{ \\sum_{\\alpha = 1}^{N} A_{j, \\omega_{\\alpha}} \\exp{(i \\phi_\\alpha)} \\exp{(i\\omega_\\alpha t)} \\right\\} = \\sum_{\\alpha} A_{k, \\omega_\\alpha} \\Theta_\\alpha.\n",
    "$$\n",
    "The set of $N$ new generalized coordinates $\\Theta_\\alpha$ are called _normal coordinates_; as the equations of motion for them would take the normal form $\\ddot{\\Theta}_\\alpha + \\omega^2_\\alpha \\Theta_\\alpha = 0$.\n",
    "\n",
    "The time complexity of the above analytical method would revert back to the time complexity of solving a polynomial equation of degree $N$. Although we could prove that for the energy to be a constant of motion, $\\omega$ could not have an imaginary part, still solving the characteristic equation is not a guaranteed computation and at best one might, for instance, fix a numerical solver and then determines the time complexity of its execution within a pre-determined error-tolerance."
   ]
  },
  {
   "cell_type": "markdown",
   "id": "e36838b0-6ccd-4116-abe8-f35f69b361e6",
   "metadata": {},
   "source": [
    "## Quantum Algorithm"
   ]
  },
  {
   "cell_type": "markdown",
   "id": "b4ac787e-19ff-4348-88a7-8cc7467ce2ce",
   "metadata": {},
   "source": [
    "The quantum algorithm devised in [Exponential Quantum Speedup in Simulating Coupled Classical Oscillators](https://journals.aps.org/prx/abstract/10.1103/PhysRevX.13.041041) relies on the following amplitude encoding of the systems dynamical variables in a normalized quantum state:\n",
    "$$\n",
    "|\\psi(t)\\rangle:= \\frac{1}{\\sqrt{2E}}\n",
    "\\begin{bmatrix}\n",
    "\\sqrt{\\mathbf{M}}\\;\\mathbf{\\dot{x}}(t)\\\\\n",
    "i \\mathbf{\\mu}(t)\n",
    "\\end{bmatrix}\n",
    "= \\frac{1}{\\sqrt{2E}}\n",
    "\\begin{bmatrix}\n",
    "\\mathbf{\\dot{y}}(t)\\\\\n",
    "i \\mathbf{B}^{\\dagger} \\mathbf{y}(t)\n",
    "\\end{bmatrix}\n",
    ", \\qquad\n",
    "Q_j = \\frac{1}{2} \\frac{\\partial |\\mu|^2}{\\partial x_j}\n",
    "$$\n",
    "The objective is then to find a Hamiltonian which would be responsible for the time evolution of the above state. Transforming $\\mathbf{x}$ to $\\mathbf{y}$ is what generates a Schrödinger-like equation for $\\mathbf{y}$ and consequently reveals $\\mathbf{H}$.\n",
    "$$\n",
    "\\sqrt{\\mathbf{M}} \\; \\vec{\\ddot{\\mathbf{y}}} = \\mathbf{Q} \\sqrt{\\mathbf{M}}^{-1} \\vec{\\mathbf{y}}\n",
    "\\quad\\Rightarrow\\quad \n",
    "\\vec{\\ddot{\\mathbf{y}}} = \\underset{\\mathbf{-A}}{\\underline{\\underline{\\sqrt{\\mathbf{M}}^{-1} \\mathbf{Q} \\sqrt{\\mathbf{M}}^{-1}}}} \\vec{\\mathbf{y}} \n",
    "\\quad\\Rightarrow\\quad \n",
    "\\vec{\\ddot{\\mathbf{y}}} + i \\sqrt{\\mathbf{A}} \\vec{\\dot{\\mathbf{y}}} = i \\sqrt{\\mathbf{A}} \\vec{\\dot{\\mathbf{y}}} - \\mathbf{A}\\vec{{\\mathbf{y}}}\n",
    "\\quad\\Rightarrow\\quad\n",
    "\\frac{d}{dt} \\left( \\vec{\\dot{\\mathbf{y}}} + i \\sqrt{\\mathbf{A}} \\vec{\\mathbf{y}} \\right) = i \\sqrt{\\mathbf{A}} \\left( \\vec{\\dot{\\mathbf{y}}} + i \\sqrt{\\mathbf{A}} \\vec{\\mathbf{y}} \\right).\n",
    "$$\n",
    "Multiplying the above equation by its complex conjugate and comparing it with the inner product of Schrödinger equations for $|\\psi(t)\\rangle$ and its dual\n",
    "$$\n",
    "\\langle \\dot{\\psi(t)}|\\dot{\\psi(t)}\\rangle = \n",
    "\\frac{1}{2E}\\;\\frac{d}{dt} \\left(\n",
    "\\begin{bmatrix}\n",
    "\\dot{\\mathbf{y}}^T &\n",
    "-i \\mathbf{y}^T \\mathbf{B}^{\\dagger}\n",
    "\\end{bmatrix}\n",
    "\\begin{bmatrix}\n",
    "\\dot{\\mathbf{y}}\\\\\n",
    "i \\mathbf{B} \\mathbf{y}\n",
    "\\end{bmatrix}\n",
    "\\right) =\n",
    "\\langle \\psi(t)| \\mathbf{H}^2 |\\psi(t)\\rangle.\n",
    "$$\n",
    "would instantly lead to:\n",
    "$$\n",
    "\\begin{aligned}\n",
    "\\mathbf{A} &= \\mathbf{B}\\mathbf{B}^{\\dagger} \\\\\n",
    "\\mathbf{H} &=\n",
    "\\begin{bmatrix}\n",
    "\\mathbf{0} & \\mathbf{B} \\\\\n",
    "\\mathbf{B}^{\\dagger} & \\mathbf{0}\n",
    "\\end{bmatrix}\n",
    "\\end{aligned}\n",
    "$$\n",
    "\n",
    "To identify $\\mathbf{B}$, one needs to map the $M := N(N+1)/2$ components of the vector $\\mu(t)$ to a proper set of basis kets. $\\mu(t)$ components span a subspace of an $N^2$-dimension vector space; hence it would be natural to map the components of $\\mu(t)$ to the two-register kets $|j, k\\rangle$ with the condition $j \\leq k$.\n",
    "\n",
    "Since $\\vec{\\ddot{\\mathbf{y}}} = - \\mathbf{A} \\; \\vec{\\mathbf{y}}$, $\\mathbf{M} \\; \\vec{\\mathbf{\\ddot{x}}} = \\mathbf{Q} \\; \\vec{\\mathbf{{x}}}$, and $\\vec{\\mathbf{{y}}} = \\sqrt{\\mathbf{M}} \\; \\vec{\\mathbf{{x}}}$, it is straightforward to see that\n",
    "$$\n",
    "\\mathbf{Q} = - \\sqrt{\\mathbf{M}}\\; \\mathbf{B}\\mathbf{B}^{\\dagger} \\sqrt{\\mathbf{M}},\n",
    "$$\n",
    "and\n",
    "$$\n",
    "\\mathbf{Q} = - \\sum_{j} \\kappa_{jj} |j\\rangle\\langle j| + \\sum_{j < k} \\kappa_{jk} ( |j\\rangle\\langle k| + |k\\rangle\\langle j| - |j\\rangle\\langle j| - |k\\rangle\\langle k|) = - \\sum_{j} \\sqrt{\\mathbf{M}}\\; \\mathbf{B} |j, j\\rangle\\langle j, j| \\mathbf{B}^{\\dagger} \\sqrt{\\mathbf{M}} + \\sum_{j < k}\\sqrt{\\mathbf{M}}\\; \\mathbf{B} |j, k\\rangle\\langle j, k| \\mathbf{B}^{\\dagger} \\sqrt{\\mathbf{M}}\n",
    "$$\n",
    "which means that\n",
    "$$\n",
    "\\begin{aligned}\n",
    "\\sqrt{\\mathbf{M}}\\; \\mathbf{B} |j, j\\rangle &= \\sqrt{\\kappa_{jj}} |j\\rangle, \\\\\n",
    "\\sqrt{\\mathbf{M}}\\; \\mathbf{B} |j, k\\rangle &= \\sqrt{\\kappa_{jk}} ( |j\\rangle - |k\\rangle. \\quad (j < k)\n",
    "\\end{aligned}\n",
    "$$"
   ]
  },
  {
   "cell_type": "markdown",
   "id": "08efdb4c-f4ad-4f0d-9e43-cf318267ea00",
   "metadata": {},
   "source": [
    "## Toy Problem ($N=2$)"
   ]
  },
  {
   "cell_type": "markdown",
   "id": "0c3361f6-c0c8-43ac-8f19-b5ba2ac1d9e5",
   "metadata": {},
   "source": [
    "For $N=2$ we could use the following encodings to create a matrix representation of $\\sqrt{\\mathbf{M}} \\; \\mathbf{B}$ and consequently $\\mathbf{B}$ and $\\mathbf{H}$.\n",
    "$$\n",
    "\\begin{aligned}\n",
    "|0\\rangle &= \n",
    "\\begin{bmatrix}\n",
    "1\\\\\n",
    "0\n",
    "\\end{bmatrix}\\\\\n",
    "|1\\rangle &= \n",
    "\\begin{bmatrix}\n",
    "0\\\\\n",
    "1\n",
    "\\end{bmatrix} \\\\\n",
    "|0, 0\\rangle &= \n",
    "\\begin{bmatrix}\n",
    "1\\\\\n",
    "0\\\\\n",
    "0\n",
    "\\end{bmatrix}\n",
    "\\quad\n",
    "|0, 1\\rangle = \n",
    "\\begin{bmatrix}\n",
    "0\\\\\n",
    "0\\\\\n",
    "1\n",
    "\\end{bmatrix} \\\\\n",
    "|1, 1\\rangle &= \n",
    "\\begin{bmatrix}\n",
    "0\\\\\n",
    "1\\\\\n",
    "0\n",
    "\\end{bmatrix}\n",
    "\\end{aligned}\n",
    "$$\n",
    "This would lead to \n",
    "$$\n",
    "\\mathbf{B} =\n",
    "\\begin{bmatrix}\n",
    "\\sqrt{\\frac{\\kappa_{00}}{m_0}} & 0 &  \\sqrt{\\frac{\\kappa_{01}}{m_0}} \\\\\n",
    "0 & \\sqrt{\\frac{\\kappa_{11}}{m_1}} & -\\sqrt{\\frac{\\kappa_{01}}{m_1}}\n",
    "\\end{bmatrix}\n",
    "\\qquad\n",
    "\\mathbf{H} = -\n",
    "\\begin{bmatrix}\n",
    "0 & 0 & \\sqrt{\\frac{\\kappa_{00}}{m_0}} & 0 &  \\sqrt{\\frac{\\kappa_{01}}{m_0}} \\\\\n",
    "0 & 0 & 0 & \\sqrt{\\frac{\\kappa_{11}}{m_1}} & -\\sqrt{\\frac{\\kappa_{01}}{m_1}} \\\\\n",
    "\\sqrt{\\frac{\\kappa_{00}}{m_0}} & 0 & 0 & 0 & 0 \\\\\n",
    "0 & \\sqrt{\\frac{\\kappa_{11}}{m_1}} & 0 & 0 & 0 \\\\\n",
    "\\sqrt{\\frac{\\kappa_{01}}{m_0}} & -\\sqrt{\\frac{\\kappa_{01}}{m_1}} & 0 & 0 & 0\n",
    "\\end{bmatrix}\n",
    "$$\n",
    "For the initial conditions we could take $\\dot{y}(0) = 1$, $\\dot{y}(1) = -1$, and $y(0) = y(1) = 0$ which corresponds to the initial state:\n",
    "$$\n",
    "|\\psi(0)\\rangle = \n",
    "\\begin{bmatrix}\n",
    "\\frac{1}{\\sqrt{2}} \\\\\n",
    "-\\frac{1}{\\sqrt{2}} \\\\\n",
    "0 \\\\\n",
    "0 \\\\\n",
    "0\n",
    "\\end{bmatrix}.\n",
    "$$"
   ]
  },
  {
   "cell_type": "code",
   "execution_count": null,
   "id": "359ec447",
   "metadata": {},
   "outputs": [],
   "source": [
    "# Execute this cell if you are not already authenticated\n",
    "# and do not have a valid API token\n",
    "import os\n",
    "import classiq\n",
    "# connecting through proxy\n",
    "os.environ['http_proxy'] = \"http://127.0.0.1:20171\" \n",
    "os.environ['https_proxy'] = \"http://127.0.0.1:20171\"\n",
    "classiq.authenticate()"
   ]
  },
  {
   "cell_type": "markdown",
   "id": "ead4dffc-2ff8-4136-8934-3f059043fede",
   "metadata": {},
   "source": [
    "### define the initial state"
   ]
  },
  {
   "cell_type": "code",
   "execution_count": 1,
   "id": "75aec629-c786-4dde-9a74-0aeb4dbe3e5b",
   "metadata": {},
   "outputs": [],
   "source": [
    "from sympy import sqrt\n",
    "from classiq import QArray, QBit, prepare_state\n",
    "\n",
    "# Define the initial state as a list of amplitudes\n",
    "initial_state = [1/sqrt(2), -1/sqrt(2), 0, 0, 0]"
   ]
  },
  {
   "cell_type": "markdown",
   "id": "827c6543-7eb1-43cc-8feb-9702a33fbaf2",
   "metadata": {},
   "source": [
    "### define the Hamiltonian matrix rep symbolically"
   ]
  },
  {
   "cell_type": "code",
   "execution_count": 2,
   "id": "8e7d1b6c",
   "metadata": {},
   "outputs": [],
   "source": [
    "from sympy import symbols, sqrt\n",
    "from classiq import Pauli, PauliTerm\n",
    "\n",
    "# Define symbolic parameters\n",
    "k00, k01, k11, m0, m1 = symbols('k00 k01 k11 m0 m1')\n",
    "\n",
    "# Define the Hamiltonian matrix with square root terms\n",
    "hamiltonian_matrix = [\n",
    "    [0, 0, sqrt(k00/m0), 0, sqrt(k01/m0)],\n",
    "    [0, 0, 0, sqrt(k11/m1), -sqrt(k01/m1)],\n",
    "    [sqrt(k00/m1), 0, 0, 0, 0],\n",
    "    [0, sqrt(k11/m1), 0, 0, 0],\n",
    "    [sqrt(k01/m0), -sqrt(k01/m1), 0, 0, 0]\n",
    "]\n",
    "\n",
    "# Convert matrix to Pauli terms\n",
    "def matrix_to_pauli_terms(matrix):\n",
    "    pauli_terms = []\n",
    "    for i in range(len(matrix)):\n",
    "        for j in range(len(matrix[i])):\n",
    "            if matrix[i][j] != 0:\n",
    "                pauli_terms.append(PauliTerm(pauli=[Pauli.I]*i + [Pauli.Z] + [Pauli.I]*(len(matrix)-i-1), coefficient=matrix[i][j]))\n",
    "    return pauli_terms\n",
    "\n",
    "hamiltonian = matrix_to_pauli_terms(hamiltonian_matrix)\n"
   ]
  },
  {
   "cell_type": "markdown",
   "id": "a25d4ced-7161-4136-8558-85a6cb50ca82",
   "metadata": {},
   "source": [
    "### evaluate Hamiltonian for its parameters"
   ]
  },
  {
   "cell_type": "code",
   "execution_count": 3,
   "id": "0a9feae9-b040-4e10-a8f9-6c2c753de21e",
   "metadata": {},
   "outputs": [],
   "source": [
    "# Substitute specific values into the symbolic Hamiltonian\n",
    "k00_value = 1.0\n",
    "k01_value = 2.0\n",
    "k11_value = 3.0\n",
    "m0_value = 1.0\n",
    "m1_value = 2.0\n",
    "\n",
    "evaluated_hamiltonian = [\n",
    "    PauliTerm(pauli=term.pauli, coefficient=term.coefficient.subs({k00: k00_value, k01: k01_value, k11: k11_value, m0: m0_value, m1: m1_value}))\n",
    "    for term in hamiltonian\n",
    "]"
   ]
  },
  {
   "cell_type": "markdown",
   "id": "9cc58310-65ba-4234-82f2-b8d63af64977",
   "metadata": {},
   "source": [
    "### simulate system evolution in time"
   ]
  },
  {
   "cell_type": "code",
   "execution_count": 5,
   "id": "314639df",
   "metadata": {},
   "outputs": [
    {
     "name": "stdout",
     "output_type": "stream",
     "text": [
      "Classiq's exponentiation depth is 1\n",
      "Classiq's exponentiation CX-count is 0\n",
      "Opening: https://platform.classiq.io/circuit/19b191ae-cce6-4043-85ab-f48c47ac2867?version=0.43.3\n"
     ]
    }
   ],
   "source": [
    "from classiq import CustomHardwareSettings, Preferences, QuantumProgram, allocate, create_model, qfunc, set_preferences, show, suzuki_trotter, synthesize, write_qmod\n",
    "\n",
    "@qfunc\n",
    "def main() -> None:\n",
    "    state = QArray(\"state\")\n",
    "    allocate(len(evaluated_hamiltonian[0].pauli), state)\n",
    "    #prepare_state(probabilities=initial_state, bound=0.01, out=state)\n",
    "    suzuki_trotter(evaluated_hamiltonian, evolution_coefficient=1, order=1, repetitions=1, qbv=state)\n",
    "\n",
    "qmod = create_model(main)\n",
    "qmod = set_preferences(qmod, preferences=Preferences(custom_hardware_settings=CustomHardwareSettings(basis_gates=[\"cx\", \"u\"])))\n",
    "write_qmod(qmod, \"task1-toy-N-2\")\n",
    "qprog = synthesize(qmod)\n",
    "circuit = QuantumProgram.from_qprog(qprog)\n",
    "\n",
    "print(f\"Classiq's exponentiation depth is {circuit.transpiled_circuit.depth}\")\n",
    "\n",
    "# Check if 'cx' gate is present in the count_ops dictionary\n",
    "cx_count = circuit.transpiled_circuit.count_ops.get('cx', 0)\n",
    "print(f\"Classiq's exponentiation CX-count is {cx_count}\")\n",
    "\n",
    "show(qprog)\n"
   ]
  },
  {
   "cell_type": "markdown",
   "id": "6b7327c7-f8ee-4266-8b3f-83040d8bcd0a",
   "metadata": {},
   "source": [
    "## Case $N=4$"
   ]
  },
  {
   "cell_type": "markdown",
   "id": "d5064362-cb27-4ff9-8e90-3c082b1462ec",
   "metadata": {},
   "source": [
    "For $N=4$, operator $\\mathbf{B}$ would have a 4x10 matrix representation and the Hamiltonian would be a sparse 14x14 matrix. The pattern for $\\mathbf{B}$ is not hard to guess. "
   ]
  },
  {
   "cell_type": "markdown",
   "id": "4d6b23c7-fd79-4c44-9ce3-305b738c9dd4",
   "metadata": {},
   "source": [
    "### define the initial state"
   ]
  },
  {
   "cell_type": "code",
   "execution_count": null,
   "id": "8fea99a6-c932-4ca9-8627-0593dc82ac4a",
   "metadata": {},
   "outputs": [],
   "source": [
    "from sympy import sqrt\n",
    "from classiq import QArray, QBit, prepare_state\n",
    "\n",
    "# Define the initial state as a list of amplitudes\n",
    "initial_state = [1/sqrt(2), -1/sqrt(2), 0, 0, 0, 0, 0, 0, 0, 0, 0, 0, 0, 0]"
   ]
  },
  {
   "cell_type": "markdown",
   "id": "4de9f1f2-feef-401a-b0ad-376c6d3d31bc",
   "metadata": {},
   "source": [
    "### define the Hamiltonian matrix rep symbolically"
   ]
  },
  {
   "cell_type": "code",
   "execution_count": null,
   "id": "bf16af9a-505e-4c34-aaa6-4d20cef5b2cd",
   "metadata": {},
   "outputs": [],
   "source": [
    "from sympy import symbols, sqrt\n",
    "from classiq import Pauli, PauliTerm\n",
    "\n",
    "# Define symbolic parameters\n",
    "k00, k01, k02, k03, k11, k12, k13, k22, k23, k33, m0, m1, m2, m3 = symbols('k00 k01 k02 k03 k11 k12 k13 k22 k23 k33 m0 m1 m2 m3')\n",
    "\n",
    "# Define the Hamiltonian matrix with square root terms\n",
    "hamiltonian_matrix = [\n",
    "    [0, 0, 0, 0, sqrt(k00/m0), 0, 0, 0, sqrt(k01/m0), sqrt(k02/m0), sqrt(k03/m0), sqrt(k12/m0), sqrt(k13/m0), sqrt(k23/m0)],\n",
    "    [0, 0, 0, 0, 0, sqrt(k11/m1), 0, 0, -sqrt(k01/m1), -sqrt(k02/m1), -sqrt(k03/m1), -sqrt(k12/m1), -sqrt(k13/m1), -sqrt(k23/m1)],\n",
    "    [0, 0, 0, 0, 0, 0, sqrt(k22/m2), 0, 0, 0, 0, 0, 0, 0],\n",
    "    [0, 0, 0, 0, 0, 0, 0, sqrt(k33/m3), 0, 0, 0, 0, 0, 0],\n",
    "    [sqrt(k00/m0), 0, 0, 0, 0, 0, 0, 0, 0, 0, 0, 0, 0, 0],\n",
    "    [0, sqrt(k11/m1), 0, 0, 0, 0, 0, 0, 0, 0, 0, 0, 0, 0],\n",
    "    [0, 0, sqrt(k22/m2), 0, 0, 0, 0, 0, 0, 0, 0, 0, 0, 0],\n",
    "    [0, 0, 0, sqrt(k33/m3), 0, 0, 0, 0, 0, 0, 0, 0, 0, 0],\n",
    "    [sqrt(k01/m0), -sqrt(k01/m1), 0, 0, 0, 0, 0, 0, 0, 0, 0, 0, 0, 0],\n",
    "    [sqrt(k02/m0), -sqrt(k02/m1), 0, 0, 0, 0, 0, 0, 0, 0, 0, 0, 0, 0],\n",
    "    [sqrt(k03/m0), -sqrt(k03/m1), 0, 0, 0, 0, 0, 0, 0, 0, 0, 0, 0, 0],\n",
    "    [sqrt(k12/m0), -sqrt(k12/m1), 0, 0, 0, 0, 0, 0, 0, 0, 0, 0, 0, 0],\n",
    "    [sqrt(k13/m0), -sqrt(k13/m1), 0, 0, 0, 0, 0, 0, 0, 0, 0, 0, 0, 0],\n",
    "    [sqrt(k23/m0), -sqrt(k23/m1), 0, 0, 0, 0, 0, 0, 0, 0, 0, 0, 0, 0]\n",
    "]\n",
    "\n",
    "# Convert matrix to Pauli terms\n",
    "def matrix_to_pauli_terms(matrix):\n",
    "    pauli_terms = []\n",
    "    for i in range(len(matrix)):\n",
    "        for j in range(len(matrix[i])):\n",
    "            if matrix[i][j] != 0:\n",
    "                pauli_terms.append(PauliTerm(pauli=[Pauli.I]*i + [Pauli.Z] + [Pauli.I]*(len(matrix)-i-1), coefficient=matrix[i][j]))\n",
    "    return pauli_terms\n",
    "\n",
    "hamiltonian = matrix_to_pauli_terms(hamiltonian_matrix)"
   ]
  },
  {
   "cell_type": "markdown",
   "id": "413e8b16-aeec-44f0-9fc3-3890bfc8a39b",
   "metadata": {},
   "source": [
    "### evaluate Hamiltonian for its parameters"
   ]
  },
  {
   "cell_type": "code",
   "execution_count": null,
   "id": "58e87407-319d-442f-ad6e-943fc62ef94d",
   "metadata": {},
   "outputs": [],
   "source": [
    "# Substitute specific values into the symbolic Hamiltonian\n",
    "k00_value = 1.0\n",
    "k01_value = 2.0\n",
    "k02_value = 2.0\n",
    "k03_value = 2.0\n",
    "k11_value = 3.0\n",
    "k12_value = 3.0\n",
    "k13_value = 3.0\n",
    "k22_value = 1.0\n",
    "k23_value = 2.0\n",
    "k33_value = 4.0\n",
    "m0_value = 1.0\n",
    "m1_value = 2.0\n",
    "m2_value = 3.0\n",
    "m3_value = 4.0\n",
    "\n",
    "evaluated_hamiltonian = [\n",
    "    PauliTerm(pauli=term.pauli, coefficient=term.coefficient.subs({k00: k00_value, k01: k01_value, k02: k02_value, k03: k03_value, k11: k11_value, k12: k12_value, k13: k13_value, k22: k22_value, k23: k23_value, k33: k33_value, m0: m0_value, m1: m1_value, m2: m2_value, m3: m3_value}))\n",
    "    for term in hamiltonian\n",
    "]"
   ]
  },
  {
   "cell_type": "markdown",
   "id": "f72090a8-6e4f-47e8-a430-5c97af123e1d",
   "metadata": {},
   "source": [
    "### simulate system evolution in time"
   ]
  },
  {
   "cell_type": "code",
   "execution_count": null,
   "id": "80fbff49-b5df-4822-9903-3ff36cde5a41",
   "metadata": {},
   "outputs": [],
   "source": [
    "from classiq import CustomHardwareSettings, Preferences, QuantumProgram, allocate, create_model, qfunc, set_preferences, show, suzuki_trotter, synthesize, write_qmod\n",
    "\n",
    "@qfunc\n",
    "def main() -> None:\n",
    "    state = QArray(\"state\")\n",
    "    allocate(len(evaluated_hamiltonian[0].pauli), state)\n",
    "    #prepare_state(probabilities=initial_state, bound=0.01, out=state)\n",
    "    suzuki_trotter(evaluated_hamiltonian, evolution_coefficient=1, order=1, repetitions=1, qbv=state)\n",
    "\n",
    "qmod = create_model(main)\n",
    "qmod = set_preferences(qmod, preferences=Preferences(custom_hardware_settings=CustomHardwareSettings(basis_gates=[\"cx\", \"u\"])))\n",
    "write_qmod(qmod, \"task2-case-N-4\")\n",
    "qprog = synthesize(qmod)\n",
    "circuit = QuantumProgram.from_qprog(qprog)\n",
    "\n",
    "print(f\"Classiq's exponentiation depth is {circuit.transpiled_circuit.depth}\")\n",
    "\n",
    "# Check if 'cx' gate is present in the count_ops dictionary\n",
    "cx_count = circuit.transpiled_circuit.count_ops.get('cx', 0)\n",
    "print(f\"Classiq's exponentiation CX-count is {cx_count}\")\n",
    "\n",
    "show(qprog)\n"
   ]
  },
  {
   "cell_type": "code",
   "execution_count": null,
   "id": "90692661-6f67-4198-8869-9a1f433ac378",
   "metadata": {},
   "outputs": [],
   "source": []
  }
 ],
 "metadata": {
  "kernelspec": {
   "display_name": "Python 3 (ipykernel)",
   "language": "python",
   "name": "python3"
  },
  "language_info": {
   "codemirror_mode": {
    "name": "ipython",
    "version": 3
   },
   "file_extension": ".py",
   "mimetype": "text/x-python",
   "name": "python",
   "nbconvert_exporter": "python",
   "pygments_lexer": "ipython3",
   "version": "3.11.9"
  }
 },
 "nbformat": 4,
 "nbformat_minor": 5
}
