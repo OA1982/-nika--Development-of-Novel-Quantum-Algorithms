{
 "cells": [
  {
   "cell_type": "markdown",
   "id": "9e5e3cd8",
   "metadata": {},
   "source": [
    "# Quantum Algorithm for Hamiltonian Simulation of Coupled Classical Oscillators"
   ]
  },
  {
   "cell_type": "markdown",
   "id": "95848500-e0bc-4a9e-a054-b653c76a3d23",
   "metadata": {},
   "source": [
    "The dynamics of a classical system of coupled oscillators with $s$ degrees of freedom could accurately be described by series of _normal modes_. Our objective here is to deploy a quantum algorithm that would meaningfully deliver the dynamics of a 1-dimensional system of $N$ coupled classical oscillators through a Hamiltonian simulation over time."
   ]
  },
  {
   "cell_type": "markdown",
   "id": "96f2a974-d23d-40ef-9d08-713d5d404b61",
   "metadata": {},
   "source": [
    "## Introduction"
   ]
  },
  {
   "cell_type": "markdown",
   "id": "f989545a-f6c6-4ba3-86c8-fafc17aa7935",
   "metadata": {},
   "source": [
    "A 1-dimensional system of coupled oscillators is composed of $N$ masses interacting with each other according to Hook's law and each mass could also be imagined to be connected to a hard wall with a spring. The set of equations of motion for such a system could be easily obtained using the principle of least action and Lagrangian mechanics in terms of small displacements $x_j = q_j - q_{j0}$ ( $q_j$'s are the generalized coordinates and $q_{j0}$'s are the equilibrium coordinates of the masses).\n",
    "$$\n",
    "\\begin{aligned}\n",
    "U (x_1, \\ldots, x_N) &= \\frac{1}{2} \\sum_{j,k} \\kappa_{jk} x_j x_k = \\frac{1}{2} \\mathbf{x^T K x}, \\qquad \\kappa_{jk} = \\left.\\frac{\\partial^2 U}{\\partial x_j \\partial x_k} \\right|_{xj = 0, x_k = 0}, \\\\\n",
    "T (\\dot{x}_1, \\dots, \\dot{x}_N; \\mathbf{x}) &= \\frac{1}{2}\\sum_{j, k} a_{jk}(\\mathbf{x}) \\dot{x}_j \\dot{x}_k = \\frac{1}{2} \\mathbf{\\dot{x}^T M \\dot{x}}.\n",
    "\\end{aligned}\n",
    "$$\n",
    "In the case of our 1-dimensional system $\\mathbf{K}$ is a matrix with elements $\\kappa_{jk} > 0$ and $\\mathbf{M}$ is a diagonal matrix with elements $m_j$. Clearly, the generalized forces exerted on mass $m_j > 0$ would be\n",
    "$$\n",
    "Q_j = - \\frac{\\partial U}{\\partial x_j} = -\\kappa_{jj} x_j + \\sum_{k \\neq j} \\kappa_{jk} (x_k - x_j),\n",
    "$$\n",
    "and the Lagrange equations would lead to the following system of equations of motion : \n",
    "$$\n",
    "\\mathbf{M} \\; \\vec{\\mathbf{\\ddot{x}}} = \\mathbf{Q} \\; \\vec{\\mathbf{{x}}}.\n",
    "$$\n",
    "Solutions to the above equations of motion (EOM) would take the form $x_j = A_j \\exp{(i \\omega t)}$; substituting these into the system of EOMs and equating the determinant of the transformed system to zero would result in a polynomial equation of degree $N$ in $\\omega^2$. The solutions to this equation would be maximum $N$ _characteristic frequencies_ $\\omega_{\\alpha}$ which would determine the magnitudes of the amplitudes of the superposition terms within the general solution.\n",
    "$$\n",
    "x_j = \\mathbb{Re} \\left\\{ \\sum_{\\alpha = 1}^{N} A_{j, \\omega_{\\alpha}} \\exp{(i \\phi_\\alpha)} \\exp{(i\\omega_\\alpha t)} \\right\\} = \\sum_{\\alpha} A_{k, \\omega_\\alpha} \\Theta_\\alpha.\n",
    "$$\n",
    "The set of $N$ new generalized coordinates $\\Theta_\\alpha$ are called _normal coordinates_; as the equations of motion for them would take the normal form $\\ddot{\\Theta}_\\alpha + \\omega^2_\\alpha \\Theta_\\alpha = 0$.\n",
    "\n",
    "The time complexity of the above analytical method would revert back to the time complexity of solving a polynomial equation of degree $N$. Although we could prove that for the energy to be a constant of motion, $\\omega$ could not have an imaginary part, still solving the characteristic equation is not a guaranteed computation and at best one might, for instance, fix a numerical solver and then determines the time complexity of its execution within a pre-determined error-tolerance."
   ]
  },
  {
   "cell_type": "markdown",
   "id": "e36838b0-6ccd-4116-abe8-f35f69b361e6",
   "metadata": {},
   "source": [
    "## Quantum Algorithm"
   ]
  },
  {
   "cell_type": "markdown",
   "id": "b4ac787e-19ff-4348-88a7-8cc7467ce2ce",
   "metadata": {},
   "source": [
    "The quantum algorithm devised in [Exponential Quantum Speedup in Simulating Coupled Classical Oscillators](https://journals.aps.org/prx/abstract/10.1103/PhysRevX.13.041041) relies on the following amplitude encoding of the systems dynamical variables in a normalized quantum state:\n",
    "$$\n",
    "|\\psi(t)\\rangle:= \\frac{1}{\\sqrt{2E}}\n",
    "\\begin{bmatrix}\n",
    "\\sqrt{\\mathbf{M}}\\;\\mathbf{\\dot{x}}(t)\\\\\n",
    "i \\mathbf{\\mu}(t)\n",
    "\\end{bmatrix}\n",
    "= \\frac{1}{\\sqrt{2E}}\n",
    "\\begin{bmatrix}\n",
    "\\mathbf{\\dot{y}}(t)\\\\\n",
    "i \\mathbf{B}^{\\dagger} \\mathbf{y}(t)\n",
    "\\end{bmatrix}\n",
    ", \\qquad\n",
    "Q_j = \\frac{1}{2} \\frac{\\partial |\\mu|^2}{\\partial x_j}\n",
    "$$\n",
    "The objective is then to find a Hamiltonian which would be responsible for the time evolution of the above state. Transforming $\\mathbf{x}$ to $\\mathbf{y}$ is what generates a Schrödinger-like equation for $\\mathbf{y}$ and consequently reveals $\\mathbf{H}$.\n",
    "$$\n",
    "\\sqrt{\\mathbf{M}} \\; \\vec{\\ddot{\\mathbf{y}}} = \\mathbf{Q} \\sqrt{\\mathbf{M}}^{-1} \\vec{\\mathbf{y}}\n",
    "\\quad\\Rightarrow\\quad \n",
    "\\vec{\\ddot{\\mathbf{y}}} = \\underset{\\mathbf{-A}}{\\underline{\\underline{\\sqrt{\\mathbf{M}}^{-1} \\mathbf{Q} \\sqrt{\\mathbf{M}}^{-1}}}} \\vec{\\mathbf{y}} \n",
    "\\quad\\Rightarrow\\quad \n",
    "\\vec{\\ddot{\\mathbf{y}}} + i \\sqrt{\\mathbf{A}} \\vec{\\dot{\\mathbf{y}}} = i \\sqrt{\\mathbf{A}} \\vec{\\dot{\\mathbf{y}}} - \\mathbf{A}\\vec{{\\mathbf{y}}}\n",
    "\\quad\\Rightarrow\\quad\n",
    "\\frac{d}{dt} \\left( \\vec{\\dot{\\mathbf{y}}} + i \\sqrt{\\mathbf{A}} \\vec{\\mathbf{y}} \\right) = i \\sqrt{\\mathbf{A}} \\left( \\vec{\\dot{\\mathbf{y}}} + i \\sqrt{\\mathbf{A}} \\vec{\\mathbf{y}} \\right).\n",
    "$$\n",
    "Multiplying the above equation by its complex conjugate and comparing it with the inner product of Schrödinger equations for $|\\psi(t)\\rangle$ and its dual\n",
    "$$\n",
    "\\langle \\dot{\\psi(t)}|\\dot{\\psi(t)}\\rangle = \n",
    "\\frac{1}{2E}\\;\\frac{d}{dt} \\left(\n",
    "\\begin{bmatrix}\n",
    "\\dot{\\mathbf{y}}^T &\n",
    "-i \\mathbf{y}^T \\mathbf{B}^{\\dagger}\n",
    "\\end{bmatrix}\n",
    "\\begin{bmatrix}\n",
    "\\dot{\\mathbf{y}}\\\\\n",
    "i \\mathbf{B} \\mathbf{y}\n",
    "\\end{bmatrix}\n",
    "\\right) =\n",
    "\\langle \\psi(t)| \\mathbf{H}^2 |\\psi(t)\\rangle.\n",
    "$$\n",
    "would instantly lead to:\n",
    "$$\n",
    "\\begin{aligned}\n",
    "\\mathbf{A} &= \\mathbf{B}\\mathbf{B}^{\\dagger} \\\\\n",
    "\\mathbf{H} &=\n",
    "\\begin{bmatrix}\n",
    "\\mathbf{0} & \\mathbf{B} \\\\\n",
    "\\mathbf{B}^{\\dagger} & \\mathbf{0}\n",
    "\\end{bmatrix}\n",
    "\\end{aligned}\n",
    "$$\n",
    "\n",
    "To identify $\\mathbf{B}$, one needs to map the $M := N(N+1)/2$ components of the vector $\\mu(t)$ to a proper set of basis kets. $\\mu(t)$ components span a subspace of an $N^2$-dimension vector space; hence it would be natural to map the components of $\\mu(t)$ to the two-register kets $|j, k\\rangle$ with the condition $j \\leq k$.\n",
    "\n",
    "Since $\\vec{\\ddot{\\mathbf{y}}} = - \\mathbf{A} \\; \\vec{\\mathbf{y}}$, $\\mathbf{M} \\; \\vec{\\mathbf{\\ddot{x}}} = \\mathbf{Q} \\; \\vec{\\mathbf{{x}}}$, and $\\vec{\\mathbf{{y}}} = \\sqrt{\\mathbf{M}} \\; \\vec{\\mathbf{{x}}}$, it is straightforward to see that\n",
    "$$\n",
    "\\mathbf{Q} = - \\sqrt{\\mathbf{M}}\\; \\mathbf{B}\\mathbf{B}^{\\dagger} \\sqrt{\\mathbf{M}},\n",
    "$$\n",
    "and\n",
    "$$\n",
    "\\mathbf{Q} = - \\sum_{j} \\kappa_{jj} |j\\rangle\\langle j| + \\sum_{j < k} \\kappa_{jk} ( |j\\rangle\\langle k| + |k\\rangle\\langle j| - |j\\rangle\\langle j| - |k\\rangle\\langle k|) = - \\sum_{j} \\sqrt{\\mathbf{M}}\\; \\mathbf{B} |j, j\\rangle\\langle j, j| \\mathbf{B}^{\\dagger} \\sqrt{\\mathbf{M}} + \\sum_{j < k}\\sqrt{\\mathbf{M}}\\; \\mathbf{B} |j, k\\rangle\\langle j, k| \\mathbf{B}^{\\dagger} \\sqrt{\\mathbf{M}}\n",
    "$$\n",
    "which means that\n",
    "$$\n",
    "\\begin{aligned}\n",
    "\\sqrt{\\mathbf{M}}\\; \\mathbf{B} |j, j\\rangle &= \\sqrt{\\kappa_{jj}} |j\\rangle, \\\\\n",
    "\\sqrt{\\mathbf{M}}\\; \\mathbf{B} |j, k\\rangle &= \\sqrt{\\kappa_{jk}} ( |j\\rangle - |k\\rangle. \\quad (j < k)\n",
    "\\end{aligned}\n",
    "$$"
   ]
  },
  {
   "cell_type": "markdown",
   "id": "08efdb4c-f4ad-4f0d-9e43-cf318267ea00",
   "metadata": {},
   "source": [
    "## Toy Problem ($N=2$)"
   ]
  },
  {
   "cell_type": "markdown",
   "id": "0c3361f6-c0c8-43ac-8f19-b5ba2ac1d9e5",
   "metadata": {},
   "source": [
    "For $N=2$ we could use the following encodings to create a matrix representation of $\\sqrt{\\mathbf{M}} \\; \\mathbf{B}$ and consequently $\\mathbf{B}$ and $\\mathbf{H}$.\n",
    "$$\n",
    "\\begin{aligned}\n",
    "|0\\rangle &= \n",
    "\\begin{bmatrix}\n",
    "1\\\\\n",
    "0\n",
    "\\end{bmatrix}\\\\\n",
    "|1\\rangle &= \n",
    "\\begin{bmatrix}\n",
    "0\\\\\n",
    "1\n",
    "\\end{bmatrix} \\\\\n",
    "|0, 0\\rangle &= \n",
    "\\begin{bmatrix}\n",
    "1\\\\\n",
    "0\\\\\n",
    "0\n",
    "\\end{bmatrix}\n",
    "\\quad\n",
    "|0, 1\\rangle = \n",
    "\\begin{bmatrix}\n",
    "0\\\\\n",
    "0\\\\\n",
    "1\n",
    "\\end{bmatrix} \\\\\n",
    "|1, 1\\rangle &= \n",
    "\\begin{bmatrix}\n",
    "0\\\\\n",
    "1\\\\\n",
    "0\n",
    "\\end{bmatrix}\n",
    "\\end{aligned}\n",
    "$$\n",
    "This would lead to \n",
    "$$\n",
    "\\mathbf{B} =\n",
    "\\begin{bmatrix}\n",
    "\\sqrt{\\frac{\\kappa_{00}}{m_0}} & 0 &  \\sqrt{\\frac{\\kappa_{01}}{m_0}} \\\\\n",
    "0 & \\sqrt{\\frac{\\kappa_{11}}{m_1}} & -\\sqrt{\\frac{\\kappa_{01}}{m_1}}\n",
    "\\end{bmatrix}\n",
    "\\qquad\n",
    "\\mathbf{H} = -\n",
    "\\begin{bmatrix}\n",
    "0 & 0 & \\sqrt{\\frac{\\kappa_{00}}{m_0}} & 0 &  \\sqrt{\\frac{\\kappa_{01}}{m_0}} \\\\\n",
    "0 & 0 & 0 & \\sqrt{\\frac{\\kappa_{11}}{m_1}} & -\\sqrt{\\frac{\\kappa_{01}}{m_1}} \\\\\n",
    "\\sqrt{\\frac{\\kappa_{00}}{m_0}} & 0 & 0 & 0 & 0 \\\\\n",
    "0 & \\sqrt{\\frac{\\kappa_{11}}{m_1}} & 0 & 0 & 0 \\\\\n",
    "\\sqrt{\\frac{\\kappa_{01}}{m_0}} & -\\sqrt{\\frac{\\kappa_{01}}{m_1}} & 0 & 0 & 0\n",
    "\\end{bmatrix}\n",
    "$$\n",
    "For the initial conditions we could take $\\dot{y}(0) = 1$, $\\dot{y}(1) = -1$, and $y(0) = y(1) = 0$ which corresponds to the initial state:\n",
    "$$\n",
    "|\\psi(0)\\rangle = \n",
    "\\begin{bmatrix}\n",
    "\\frac{1}{\\sqrt{2}} \\\\\n",
    "-\\frac{1}{\\sqrt{2}} \\\\\n",
    "0 \\\\\n",
    "0 \\\\\n",
    "0\n",
    "\\end{bmatrix}.\n",
    "$$"
   ]
  },
  {
   "cell_type": "code",
   "execution_count": null,
   "id": "359ec447",
   "metadata": {},
   "outputs": [],
   "source": [
    "# Execute this cell if you are not already authenticated\n",
    "# and do not have a valid API token\n",
    "import os\n",
    "import classiq\n",
    "# connecting through proxy\n",
    "os.environ['http_proxy'] = \"http://127.0.0.1:20171\" \n",
    "os.environ['https_proxy'] = \"http://127.0.0.1:20171\"\n",
    "classiq.authenticate()"
   ]
  },
  {
   "cell_type": "markdown",
   "id": "ead4dffc-2ff8-4136-8934-3f059043fede",
   "metadata": {},
   "source": [
    "### define the initial state"
   ]
  },
  {
   "cell_type": "code",
   "execution_count": 1,
   "id": "75aec629-c786-4dde-9a74-0aeb4dbe3e5b",
   "metadata": {},
   "outputs": [],
   "source": [
    "from sympy import sqrt\n",
    "from classiq import QArray, QBit, prepare_amplitudes\n",
    "\n",
    "# Define the initial state as a list of amplitudes: \n",
    "# NOTE: the state and consequently operators should \n",
    "#       be padded with 0's so the number of their \n",
    "#       components would be a power of 2 (i.e. an \n",
    "#       integral number of qubits to be used for \n",
    "#       the computation)\n",
    "initial_state = [1/sqrt(2), -1/sqrt(2), 0, 0, 0, 0, 0, 0]"
   ]
  },
  {
   "cell_type": "markdown",
   "id": "827c6543-7eb1-43cc-8feb-9702a33fbaf2",
   "metadata": {},
   "source": [
    "### define the Hamiltonian matrix rep symbolically"
   ]
  },
  {
   "cell_type": "code",
   "execution_count": 2,
   "id": "8e7d1b6c",
   "metadata": {},
   "outputs": [],
   "source": [
    "from sympy import symbols, sqrt\n",
    "from classiq import Pauli, PauliTerm\n",
    "\n",
    "# Define symbolic parameters\n",
    "k00, k01, k11, m0, m1 = symbols('k00 k01 k11 m0 m1')\n",
    "\n",
    "# Define the Hamiltonian matrix with square root terms and pad to 8x8\n",
    "hamiltonian_matrix = [\n",
    "    [0, 0, sqrt(k00/m0), 0, sqrt(k01/m0), 0, 0, 0],\n",
    "    [0, 0, 0, sqrt(k11/m1), -sqrt(k01/m1), 0, 0, 0],\n",
    "    [sqrt(k00/m1), 0, 0, 0, 0, 0, 0, 0],\n",
    "    [0, sqrt(k11/m1), 0, 0, 0, 0, 0, 0],\n",
    "    [sqrt(k01/m0), -sqrt(k01/m1), 0, 0, 0, 0, 0, 0],\n",
    "    [0, 0, 0, 0, 0, 0, 0, 0],\n",
    "    [0, 0, 0, 0, 0, 0, 0, 0],\n",
    "    [0, 0, 0, 0, 0, 0, 0, 0]\n",
    "]\n",
    "\n",
    "# Convert matrix to Pauli terms\n",
    "def matrix_to_pauli_terms(matrix):\n",
    "    pauli_terms = []\n",
    "    for i in range(len(matrix)):\n",
    "        for j in range(len(matrix[i])):\n",
    "            if matrix[i][j] != 0:\n",
    "                pauli_terms.append(PauliTerm(pauli=[Pauli.I]*i + [Pauli.Z] + [Pauli.I]*(len(matrix)-i-1), coefficient=matrix[i][j]))\n",
    "    return pauli_terms\n",
    "\n",
    "hamiltonian = matrix_to_pauli_terms(hamiltonian_matrix)"
   ]
  },
  {
   "cell_type": "markdown",
   "id": "a25d4ced-7161-4136-8558-85a6cb50ca82",
   "metadata": {},
   "source": [
    "### evaluate Hamiltonian for its parameters"
   ]
  },
  {
   "cell_type": "code",
   "execution_count": 3,
   "id": "0a9feae9-b040-4e10-a8f9-6c2c753de21e",
   "metadata": {},
   "outputs": [],
   "source": [
    "# Substitute specific values into the symbolic Hamiltonian\n",
    "k00_value = 1.0\n",
    "k01_value = 2.0\n",
    "k11_value = 3.0\n",
    "m0_value = 1.0\n",
    "m1_value = 2.0\n",
    "\n",
    "evaluated_hamiltonian = [\n",
    "    PauliTerm(pauli=term.pauli, coefficient=term.coefficient.subs({k00: k00_value, k01: k01_value, k11: k11_value, m0: m0_value, m1: m1_value}))\n",
    "    for term in hamiltonian\n",
    "]"
   ]
  },
  {
   "cell_type": "markdown",
   "id": "9cc58310-65ba-4234-82f2-b8d63af64977",
   "metadata": {},
   "source": [
    "### simulate system evolution in time"
   ]
  },
  {
   "cell_type": "code",
   "execution_count": 4,
   "id": "314639df",
   "metadata": {},
   "outputs": [
    {
     "ename": "ClassiqAPIError",
     "evalue": "\n\tSize mismatch for port 'qbv' between declared size 8 and assigned size 3\n\t\tat ipynb cell line 7 character 4 in function suzuki_trotter\n\nError identifier: E17919361-94AE-4E02-A061-61A59BA431C1.\nIf you need further assistance, please reach out on our Community Slack channel at: https://short.classiq.io/join-slack",
     "output_type": "error",
     "traceback": [
      "\u001b[0;31m---------------------------------------------------------------------------\u001b[0m",
      "\u001b[0;31mClassiqAPIError\u001b[0m                           Traceback (most recent call last)",
      "Cell \u001b[0;32mIn[4], line 12\u001b[0m\n\u001b[1;32m     10\u001b[0m qmod \u001b[38;5;241m=\u001b[39m set_preferences(qmod, preferences\u001b[38;5;241m=\u001b[39mPreferences(custom_hardware_settings\u001b[38;5;241m=\u001b[39mCustomHardwareSettings(basis_gates\u001b[38;5;241m=\u001b[39m[\u001b[38;5;124m\"\u001b[39m\u001b[38;5;124mcx\u001b[39m\u001b[38;5;124m\"\u001b[39m, \u001b[38;5;124m\"\u001b[39m\u001b[38;5;124mu\u001b[39m\u001b[38;5;124m\"\u001b[39m])))\n\u001b[1;32m     11\u001b[0m write_qmod(qmod, \u001b[38;5;124m\"\u001b[39m\u001b[38;5;124mexponentiation\u001b[39m\u001b[38;5;124m\"\u001b[39m)\n\u001b[0;32m---> 12\u001b[0m qprog \u001b[38;5;241m=\u001b[39m \u001b[43msynthesize\u001b[49m\u001b[43m(\u001b[49m\u001b[43mqmod\u001b[49m\u001b[43m)\u001b[49m\n\u001b[1;32m     13\u001b[0m circuit \u001b[38;5;241m=\u001b[39m QuantumProgram\u001b[38;5;241m.\u001b[39mfrom_qprog(qprog)\n\u001b[1;32m     15\u001b[0m \u001b[38;5;28mprint\u001b[39m(\u001b[38;5;124mf\u001b[39m\u001b[38;5;124m\"\u001b[39m\u001b[38;5;124mClassiq\u001b[39m\u001b[38;5;124m'\u001b[39m\u001b[38;5;124ms exponentiation depth is \u001b[39m\u001b[38;5;132;01m{\u001b[39;00mcircuit\u001b[38;5;241m.\u001b[39mtranspiled_circuit\u001b[38;5;241m.\u001b[39mdepth\u001b[38;5;132;01m}\u001b[39;00m\u001b[38;5;124m\"\u001b[39m)\n",
      "File \u001b[0;32m~/.local/lib/python3.11/site-packages/classiq/_internals/async_utils.py:45\u001b[0m, in \u001b[0;36msyncify_function.<locals>.async_wrapper\u001b[0;34m(*args, **kwargs)\u001b[0m\n\u001b[1;32m     43\u001b[0m \u001b[38;5;129m@functools\u001b[39m\u001b[38;5;241m.\u001b[39mwraps(async_func)\n\u001b[1;32m     44\u001b[0m \u001b[38;5;28;01mdef\u001b[39;00m \u001b[38;5;21masync_wrapper\u001b[39m(\u001b[38;5;241m*\u001b[39margs: Any, \u001b[38;5;241m*\u001b[39m\u001b[38;5;241m*\u001b[39mkwargs: Any) \u001b[38;5;241m-\u001b[39m\u001b[38;5;241m>\u001b[39m T:\n\u001b[0;32m---> 45\u001b[0m     \u001b[38;5;28;01mreturn\u001b[39;00m \u001b[43mrun\u001b[49m\u001b[43m(\u001b[49m\u001b[43masync_func\u001b[49m\u001b[43m(\u001b[49m\u001b[38;5;241;43m*\u001b[39;49m\u001b[43margs\u001b[49m\u001b[43m,\u001b[49m\u001b[43m \u001b[49m\u001b[38;5;241;43m*\u001b[39;49m\u001b[38;5;241;43m*\u001b[39;49m\u001b[43mkwargs\u001b[49m\u001b[43m)\u001b[49m\u001b[43m)\u001b[49m\n",
      "File \u001b[0;32m~/.local/lib/python3.11/site-packages/classiq/_internals/async_utils.py:39\u001b[0m, in \u001b[0;36mrun\u001b[0;34m(coro)\u001b[0m\n\u001b[1;32m     34\u001b[0m \u001b[38;5;28;01mdef\u001b[39;00m \u001b[38;5;21mrun\u001b[39m(coro: Awaitable[T]) \u001b[38;5;241m-\u001b[39m\u001b[38;5;241m>\u001b[39m T:\n\u001b[1;32m     35\u001b[0m     \u001b[38;5;66;03m# Use this function instead of asyncio.run, since it ALWAYS\u001b[39;00m\n\u001b[1;32m     36\u001b[0m     \u001b[38;5;66;03m# creates a new event loop and clears the thread event loop.\u001b[39;00m\n\u001b[1;32m     37\u001b[0m     \u001b[38;5;66;03m# Never use asyncio.run in library code.\u001b[39;00m\n\u001b[1;32m     38\u001b[0m     loop \u001b[38;5;241m=\u001b[39m get_event_loop()\n\u001b[0;32m---> 39\u001b[0m     \u001b[38;5;28;01mreturn\u001b[39;00m \u001b[43mloop\u001b[49m\u001b[38;5;241;43m.\u001b[39;49m\u001b[43mrun_until_complete\u001b[49m\u001b[43m(\u001b[49m\u001b[43mcoro\u001b[49m\u001b[43m)\u001b[49m\n",
      "File \u001b[0;32m/usr/lib/python3/dist-packages/nest_asyncio.py:81\u001b[0m, in \u001b[0;36m_patch_loop.<locals>.run_until_complete\u001b[0;34m(self, future)\u001b[0m\n\u001b[1;32m     78\u001b[0m \u001b[38;5;28;01mif\u001b[39;00m \u001b[38;5;129;01mnot\u001b[39;00m f\u001b[38;5;241m.\u001b[39mdone():\n\u001b[1;32m     79\u001b[0m     \u001b[38;5;28;01mraise\u001b[39;00m \u001b[38;5;167;01mRuntimeError\u001b[39;00m(\n\u001b[1;32m     80\u001b[0m         \u001b[38;5;124m'\u001b[39m\u001b[38;5;124mEvent loop stopped before Future completed.\u001b[39m\u001b[38;5;124m'\u001b[39m)\n\u001b[0;32m---> 81\u001b[0m \u001b[38;5;28;01mreturn\u001b[39;00m \u001b[43mf\u001b[49m\u001b[38;5;241;43m.\u001b[39;49m\u001b[43mresult\u001b[49m\u001b[43m(\u001b[49m\u001b[43m)\u001b[49m\n",
      "File \u001b[0;32m/usr/lib/python3.11/asyncio/futures.py:203\u001b[0m, in \u001b[0;36mFuture.result\u001b[0;34m(self)\u001b[0m\n\u001b[1;32m    201\u001b[0m \u001b[38;5;28mself\u001b[39m\u001b[38;5;241m.\u001b[39m__log_traceback \u001b[38;5;241m=\u001b[39m \u001b[38;5;28;01mFalse\u001b[39;00m\n\u001b[1;32m    202\u001b[0m \u001b[38;5;28;01mif\u001b[39;00m \u001b[38;5;28mself\u001b[39m\u001b[38;5;241m.\u001b[39m_exception \u001b[38;5;129;01mis\u001b[39;00m \u001b[38;5;129;01mnot\u001b[39;00m \u001b[38;5;28;01mNone\u001b[39;00m:\n\u001b[0;32m--> 203\u001b[0m     \u001b[38;5;28;01mraise\u001b[39;00m \u001b[38;5;28mself\u001b[39m\u001b[38;5;241m.\u001b[39m_exception\u001b[38;5;241m.\u001b[39mwith_traceback(\u001b[38;5;28mself\u001b[39m\u001b[38;5;241m.\u001b[39m_exception_tb)\n\u001b[1;32m    204\u001b[0m \u001b[38;5;28;01mreturn\u001b[39;00m \u001b[38;5;28mself\u001b[39m\u001b[38;5;241m.\u001b[39m_result\n",
      "File \u001b[0;32m/usr/lib/python3.11/asyncio/tasks.py:277\u001b[0m, in \u001b[0;36mTask.__step\u001b[0;34m(***failed resolving arguments***)\u001b[0m\n\u001b[1;32m    273\u001b[0m \u001b[38;5;28;01mtry\u001b[39;00m:\n\u001b[1;32m    274\u001b[0m     \u001b[38;5;28;01mif\u001b[39;00m exc \u001b[38;5;129;01mis\u001b[39;00m \u001b[38;5;28;01mNone\u001b[39;00m:\n\u001b[1;32m    275\u001b[0m         \u001b[38;5;66;03m# We use the `send` method directly, because coroutines\u001b[39;00m\n\u001b[1;32m    276\u001b[0m         \u001b[38;5;66;03m# don't have `__iter__` and `__next__` methods.\u001b[39;00m\n\u001b[0;32m--> 277\u001b[0m         result \u001b[38;5;241m=\u001b[39m coro\u001b[38;5;241m.\u001b[39msend(\u001b[38;5;28;01mNone\u001b[39;00m)\n\u001b[1;32m    278\u001b[0m     \u001b[38;5;28;01melse\u001b[39;00m:\n\u001b[1;32m    279\u001b[0m         result \u001b[38;5;241m=\u001b[39m coro\u001b[38;5;241m.\u001b[39mthrow(exc)\n",
      "File \u001b[0;32m~/.local/lib/python3.11/site-packages/classiq/synthesis.py:20\u001b[0m, in \u001b[0;36msynthesize_async\u001b[0;34m(serialized_model)\u001b[0m\n\u001b[1;32m     16\u001b[0m \u001b[38;5;28;01masync\u001b[39;00m \u001b[38;5;28;01mdef\u001b[39;00m \u001b[38;5;21msynthesize_async\u001b[39m(\n\u001b[1;32m     17\u001b[0m     serialized_model: SerializedModel,\n\u001b[1;32m     18\u001b[0m ) \u001b[38;5;241m-\u001b[39m\u001b[38;5;241m>\u001b[39m SerializedQuantumProgram:\n\u001b[1;32m     19\u001b[0m     model \u001b[38;5;241m=\u001b[39m pydantic\u001b[38;5;241m.\u001b[39mparse_raw_as(Model, serialized_model)\n\u001b[0;32m---> 20\u001b[0m     quantum_program \u001b[38;5;241m=\u001b[39m \u001b[38;5;28;01mawait\u001b[39;00m ApiWrapper\u001b[38;5;241m.\u001b[39mcall_generation_task(model)\n\u001b[1;32m     21\u001b[0m     \u001b[38;5;28;01mreturn\u001b[39;00m SerializedQuantumProgram(quantum_program\u001b[38;5;241m.\u001b[39mjson(indent\u001b[38;5;241m=\u001b[39m\u001b[38;5;241m2\u001b[39m))\n",
      "File \u001b[0;32m~/.local/lib/python3.11/site-packages/classiq/_internals/api_wrapper.py:102\u001b[0m, in \u001b[0;36mApiWrapper.call_generation_task\u001b[0;34m(cls, model)\u001b[0m\n\u001b[1;32m    100\u001b[0m poller \u001b[38;5;241m=\u001b[39m JobPoller(base_url\u001b[38;5;241m=\u001b[39mroutes\u001b[38;5;241m.\u001b[39mTASKS_GENERATE_FULL_PATH)\n\u001b[1;32m    101\u001b[0m result \u001b[38;5;241m=\u001b[39m \u001b[38;5;28;01mawait\u001b[39;00m poller\u001b[38;5;241m.\u001b[39mrun_pydantic(model, timeout_sec\u001b[38;5;241m=\u001b[39m\u001b[38;5;28;01mNone\u001b[39;00m)\n\u001b[0;32m--> 102\u001b[0m \u001b[38;5;28;01mreturn\u001b[39;00m \u001b[43m_parse_job_response\u001b[49m\u001b[43m(\u001b[49m\u001b[43mresult\u001b[49m\u001b[43m,\u001b[49m\u001b[43m \u001b[49m\u001b[43mgenerator_result\u001b[49m\u001b[38;5;241;43m.\u001b[39;49m\u001b[43mQuantumProgram\u001b[49m\u001b[43m)\u001b[49m\n",
      "File \u001b[0;32m~/.local/lib/python3.11/site-packages/classiq/_internals/api_wrapper.py:52\u001b[0m, in \u001b[0;36m_parse_job_response\u001b[0;34m(job_result, output_type)\u001b[0m\n\u001b[1;32m     50\u001b[0m     \u001b[38;5;28;01mreturn\u001b[39;00m output_type\u001b[38;5;241m.\u001b[39mparse_obj(job_result\u001b[38;5;241m.\u001b[39mresult)\n\u001b[1;32m     51\u001b[0m \u001b[38;5;28;01mif\u001b[39;00m job_result\u001b[38;5;241m.\u001b[39mfailure_details:\n\u001b[0;32m---> 52\u001b[0m     \u001b[38;5;28;01mraise\u001b[39;00m ClassiqAPIError(job_result\u001b[38;5;241m.\u001b[39mfailure_details)\n\u001b[1;32m     54\u001b[0m \u001b[38;5;28;01mraise\u001b[39;00m ClassiqAPIError(\u001b[38;5;124m\"\u001b[39m\u001b[38;5;124mUnexpected response from server\u001b[39m\u001b[38;5;124m\"\u001b[39m)\n",
      "\u001b[0;31mClassiqAPIError\u001b[0m: \n\tSize mismatch for port 'qbv' between declared size 8 and assigned size 3\n\t\tat ipynb cell line 7 character 4 in function suzuki_trotter\n\nError identifier: E17919361-94AE-4E02-A061-61A59BA431C1.\nIf you need further assistance, please reach out on our Community Slack channel at: https://short.classiq.io/join-slack"
     ]
    }
   ],
   "source": [
    "from classiq import CustomHardwareSettings, Preferences, QuantumProgram, create_model, qfunc, set_preferences, show, suzuki_trotter, synthesize, write_qmod\n",
    "\n",
    "@qfunc\n",
    "def main() -> None:\n",
    "    state = QArray(\"state\")\n",
    "    prepare_amplitudes(amplitudes=initial_state, bound=0.01, out=state)\n",
    "    suzuki_trotter(evaluated_hamiltonian, evolution_coefficient=1, order=1, repetitions=1, qbv=state)\n",
    "\n",
    "qmod = create_model(main)\n",
    "qmod = set_preferences(qmod, preferences=Preferences(custom_hardware_settings=CustomHardwareSettings(basis_gates=[\"cx\", \"u\"])))\n",
    "write_qmod(qmod, \"exponentiation\")\n",
    "qprog = synthesize(qmod)\n",
    "circuit = QuantumProgram.from_qprog(qprog)\n",
    "\n",
    "print(f\"Classiq's exponentiation depth is {circuit.transpiled_circuit.depth}\")\n",
    "\n",
    "# Check if 'cx' gate is present in the count_ops dictionary\n",
    "cx_count = circuit.transpiled_circuit.count_ops.get('cx', 0)\n",
    "print(f\"Classiq's exponentiation CX-count is {cx_count}\")\n",
    "\n",
    "show(qprog)"
   ]
  },
  {
   "cell_type": "markdown",
   "id": "6b7327c7-f8ee-4266-8b3f-83040d8bcd0a",
   "metadata": {},
   "source": [
    "## Case $N=4$"
   ]
  },
  {
   "cell_type": "markdown",
   "id": "d5064362-cb27-4ff9-8e90-3c082b1462ec",
   "metadata": {},
   "source": [
    "For $N=4$, operator $\\mathbf{B}$ would have a 4x10 matrix representation and the Hamiltonian would be a sparse 14x14 matrix. The pattern for $\\mathbf{B}$ is not hard to guess. "
   ]
  },
  {
   "cell_type": "markdown",
   "id": "4d6b23c7-fd79-4c44-9ce3-305b738c9dd4",
   "metadata": {},
   "source": [
    "### define the initial state"
   ]
  },
  {
   "cell_type": "code",
   "execution_count": null,
   "id": "8fea99a6-c932-4ca9-8627-0593dc82ac4a",
   "metadata": {},
   "outputs": [],
   "source": [
    "from sympy import sqrt\n",
    "from classiq import QArray, QBit, prepare_state\n",
    "\n",
    "# Define the initial state as a list of amplitudes\n",
    "initial_state = [1/sqrt(2), -1/sqrt(2), 0, 0, 0, 0, 0, 0, 0, 0, 0, 0, 0, 0]"
   ]
  },
  {
   "cell_type": "markdown",
   "id": "4de9f1f2-feef-401a-b0ad-376c6d3d31bc",
   "metadata": {},
   "source": [
    "### define the Hamiltonian matrix rep symbolically"
   ]
  },
  {
   "cell_type": "code",
   "execution_count": null,
   "id": "bf16af9a-505e-4c34-aaa6-4d20cef5b2cd",
   "metadata": {},
   "outputs": [],
   "source": [
    "from sympy import symbols, sqrt\n",
    "from classiq import Pauli, PauliTerm\n",
    "\n",
    "# Define symbolic parameters\n",
    "k00, k01, k02, k03, k11, k12, k13, k22, k23, k33, m0, m1, m2, m3 = symbols('k00 k01 k02 k03 k11 k12 k13 k22 k23 k33 m0 m1 m2 m3')\n",
    "\n",
    "# Define the Hamiltonian matrix with square root terms\n",
    "hamiltonian_matrix = [\n",
    "    [0, 0, 0, 0, sqrt(k00/m0), 0, 0, 0, sqrt(k01/m0), sqrt(k02/m0), sqrt(k03/m0), sqrt(k12/m0), sqrt(k13/m0), sqrt(k23/m0)],\n",
    "    [0, 0, 0, 0, 0, sqrt(k11/m1), 0, 0, -sqrt(k01/m1), -sqrt(k02/m1), -sqrt(k03/m1), -sqrt(k12/m1), -sqrt(k13/m1), -sqrt(k23/m1)],\n",
    "    [0, 0, 0, 0, 0, 0, sqrt(k22/m2), 0, 0, 0, 0, 0, 0, 0],\n",
    "    [0, 0, 0, 0, 0, 0, 0, sqrt(k33/m3), 0, 0, 0, 0, 0, 0],\n",
    "    [sqrt(k00/m0), 0, 0, 0, 0, 0, 0, 0, 0, 0, 0, 0, 0, 0],\n",
    "    [0, sqrt(k11/m1), 0, 0, 0, 0, 0, 0, 0, 0, 0, 0, 0, 0],\n",
    "    [0, 0, sqrt(k22/m2), 0, 0, 0, 0, 0, 0, 0, 0, 0, 0, 0],\n",
    "    [0, 0, 0, sqrt(k33/m3), 0, 0, 0, 0, 0, 0, 0, 0, 0, 0],\n",
    "    [sqrt(k01/m0), -sqrt(k01/m1), 0, 0, 0, 0, 0, 0, 0, 0, 0, 0, 0, 0],\n",
    "    [sqrt(k02/m0), -sqrt(k02/m1), 0, 0, 0, 0, 0, 0, 0, 0, 0, 0, 0, 0],\n",
    "    [sqrt(k03/m0), -sqrt(k03/m1), 0, 0, 0, 0, 0, 0, 0, 0, 0, 0, 0, 0],\n",
    "    [sqrt(k12/m0), -sqrt(k12/m1), 0, 0, 0, 0, 0, 0, 0, 0, 0, 0, 0, 0],\n",
    "    [sqrt(k13/m0), -sqrt(k13/m1), 0, 0, 0, 0, 0, 0, 0, 0, 0, 0, 0, 0],\n",
    "    [sqrt(k23/m0), -sqrt(k23/m1), 0, 0, 0, 0, 0, 0, 0, 0, 0, 0, 0, 0]\n",
    "]\n",
    "\n",
    "# Convert matrix to Pauli terms\n",
    "def matrix_to_pauli_terms(matrix):\n",
    "    pauli_terms = []\n",
    "    for i in range(len(matrix)):\n",
    "        for j in range(len(matrix[i])):\n",
    "            if matrix[i][j] != 0:\n",
    "                pauli_terms.append(PauliTerm(pauli=[Pauli.I]*i + [Pauli.Z] + [Pauli.I]*(len(matrix)-i-1), coefficient=matrix[i][j]))\n",
    "    return pauli_terms\n",
    "\n",
    "hamiltonian = matrix_to_pauli_terms(hamiltonian_matrix)"
   ]
  },
  {
   "cell_type": "markdown",
   "id": "413e8b16-aeec-44f0-9fc3-3890bfc8a39b",
   "metadata": {},
   "source": [
    "### evaluate Hamiltonian for its parameters"
   ]
  },
  {
   "cell_type": "code",
   "execution_count": null,
   "id": "58e87407-319d-442f-ad6e-943fc62ef94d",
   "metadata": {},
   "outputs": [],
   "source": [
    "# Substitute specific values into the symbolic Hamiltonian\n",
    "k00_value = 1.0\n",
    "k01_value = 2.0\n",
    "k02_value = 2.0\n",
    "k03_value = 2.0\n",
    "k11_value = 3.0\n",
    "k12_value = 3.0\n",
    "k13_value = 3.0\n",
    "k22_value = 1.0\n",
    "k23_value = 2.0\n",
    "k33_value = 4.0\n",
    "m0_value = 1.0\n",
    "m1_value = 2.0\n",
    "m2_value = 3.0\n",
    "m3_value = 4.0\n",
    "\n",
    "evaluated_hamiltonian = [\n",
    "    PauliTerm(pauli=term.pauli, coefficient=term.coefficient.subs({k00: k00_value, k01: k01_value, k02: k02_value, k03: k03_value, k11: k11_value, k12: k12_value, k13: k13_value, k22: k22_value, k23: k23_value, k33: k33_value, m0: m0_value, m1: m1_value, m2: m2_value, m3: m3_value}))\n",
    "    for term in hamiltonian\n",
    "]"
   ]
  },
  {
   "cell_type": "markdown",
   "id": "f72090a8-6e4f-47e8-a430-5c97af123e1d",
   "metadata": {},
   "source": [
    "### simulate system evolution in time"
   ]
  },
  {
   "cell_type": "code",
   "execution_count": null,
   "id": "80fbff49-b5df-4822-9903-3ff36cde5a41",
   "metadata": {},
   "outputs": [],
   "source": [
    "from classiq import CustomHardwareSettings, Preferences, QuantumProgram, allocate, create_model, qfunc, set_preferences, show, suzuki_trotter, synthesize, write_qmod\n",
    "\n",
    "@qfunc\n",
    "def main() -> None:\n",
    "    state = QArray(\"state\")\n",
    "    allocate(len(evaluated_hamiltonian[0].pauli), state)\n",
    "    #prepare_state(probabilities=initial_state, bound=0.01, out=state)\n",
    "    suzuki_trotter(evaluated_hamiltonian, evolution_coefficient=1, order=1, repetitions=1, qbv=state)\n",
    "\n",
    "qmod = create_model(main)\n",
    "qmod = set_preferences(qmod, preferences=Preferences(custom_hardware_settings=CustomHardwareSettings(basis_gates=[\"cx\", \"u\"])))\n",
    "write_qmod(qmod, \"task2-case-N-4\")\n",
    "qprog = synthesize(qmod)\n",
    "circuit = QuantumProgram.from_qprog(qprog)\n",
    "\n",
    "print(f\"Classiq's exponentiation depth is {circuit.transpiled_circuit.depth}\")\n",
    "\n",
    "# Check if 'cx' gate is present in the count_ops dictionary\n",
    "cx_count = circuit.transpiled_circuit.count_ops.get('cx', 0)\n",
    "print(f\"Classiq's exponentiation CX-count is {cx_count}\")\n",
    "\n",
    "show(qprog)\n"
   ]
  },
  {
   "cell_type": "code",
   "execution_count": null,
   "id": "90692661-6f67-4198-8869-9a1f433ac378",
   "metadata": {},
   "outputs": [],
   "source": []
  }
 ],
 "metadata": {
  "kernelspec": {
   "display_name": "Python 3 (ipykernel)",
   "language": "python",
   "name": "python3"
  },
  "language_info": {
   "codemirror_mode": {
    "name": "ipython",
    "version": 3
   },
   "file_extension": ".py",
   "mimetype": "text/x-python",
   "name": "python",
   "nbconvert_exporter": "python",
   "pygments_lexer": "ipython3",
   "version": "3.11.9"
  }
 },
 "nbformat": 4,
 "nbformat_minor": 5
}
